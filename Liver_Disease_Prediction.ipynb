{
  "nbformat": 4,
  "nbformat_minor": 0,
  "metadata": {
    "kernelspec": {
      "display_name": "Python 3",
      "language": "python",
      "name": "python3"
    },
    "language_info": {
      "codemirror_mode": {
        "name": "ipython",
        "version": 3
      },
      "file_extension": ".py",
      "mimetype": "text/x-python",
      "name": "python",
      "nbconvert_exporter": "python",
      "pygments_lexer": "ipython3",
      "version": "3.7.4"
    },
    "colab": {
      "name": "Liver_Disease_Prediction.ipynb",
      "provenance": [],
      "collapsed_sections": []
    }
  },
  "cells": [
    {
      "cell_type": "markdown",
      "metadata": {
        "id": "xW31ta4sDbTZ",
        "colab_type": "text"
      },
      "source": [
        "\n",
        "# Prediction of Liver Disease\n",
        "\n",
        "Liver disease is one of the chronic diseases and the number of people suffering from it are increasing day by day due to a large consumption of alcohol, inhalation of harmful gases, intake of contaminated food and drugs. The early diagnosis can help provide treatment before it gets severe and even fatal. Here, machine learning algorithms can play an important role by helping in identifying the patients who may have a liver disease in a very efficient and faster manner.\n",
        "\n",
        "## Problem Statement:\n",
        "\n",
        "Identifying the factors that affect the liver of any person and predicting whether the person has a liver disease or not.\n",
        "\n",
        "## About the dataset:\n",
        "The dataset of liver patients is obtained from UCI - Machine Learning Repository.\n",
        "This data set contains 416 liver patient records and 167 non liver patient records.The data set was collected from north east of Andhra Pradesh, India. The records are divided into two groups that is, liver patient and non-liver patient which are encoded as 1 and 2 respectively.\n",
        "\n",
        "## Attribute Information:\n",
        "\n",
        "1. Age - Age of the patient\n",
        "2. Gender - Gender of the patient\n",
        "3. Total Bilirubin\n",
        "4. Direct Bilirubin\n",
        "5. Alkaline Phosphotase\n",
        "6. Alamine Aminotransferase (SGPT)\n",
        "7. Aspartate Aminotransferase (SGOT)\n",
        "8. Total Protiens\n",
        "9. Albumin\n",
        "10. Ratio Albumin and Globulin Ratio\n",
        "11. Dataset - Target variable (class)\n",
        "\n",
        "\n",
        "## Approach\n",
        "Based on the above dataset, the target is binary thus this is a binary classification problem. In order to build the machine learning models, the data was pre-processed which includes treating the missing values, scaling of the data and feature engineering. The data was divided into train and test sets of ratio 70:30 and trained using various classification algorithms like Logistic Regression, Decision Tree, Naive Bayes, Ensemble Methods. Further, to finalize the model a 10-fold cross validation was performed taking into consideration the evaluation metrics as Recall because in such cases correctly predicting the person actually having the disease is more important.\n",
        "\n",
        "\n",
        "\n",
        "\n",
        "---\n",
        "\n"
      ]
    },
    {
      "cell_type": "markdown",
      "metadata": {
        "id": "QhXt5YHe9JIl",
        "colab_type": "text"
      },
      "source": [
        "# 1. Importing Required Libraries"
      ]
    },
    {
      "cell_type": "code",
      "metadata": {
        "id": "PNBbO_8RhNqU",
        "colab_type": "code",
        "colab": {
          "base_uri": "https://localhost:8080/",
          "height": 72
        },
        "outputId": "0158bbae-f466-427d-9bc3-f8f73142031a"
      },
      "source": [
        "\n",
        "import numpy as np\n",
        "import pandas as pd\n",
        "import seaborn as sns\n",
        "import matplotlib.pyplot as plt\n",
        "import os\n",
        "os.chdir('/content/sample_data')"
      ],
      "execution_count": 1,
      "outputs": [
        {
          "output_type": "stream",
          "text": [
            "/usr/local/lib/python3.6/dist-packages/statsmodels/tools/_testing.py:19: FutureWarning: pandas.util.testing is deprecated. Use the functions in the public API at pandas.testing instead.\n",
            "  import pandas.util.testing as tm\n"
          ],
          "name": "stderr"
        }
      ]
    },
    {
      "cell_type": "markdown",
      "metadata": {
        "id": "AjZaBujdKQjP",
        "colab_type": "text"
      },
      "source": [
        "# 2. Reading the data"
      ]
    },
    {
      "cell_type": "code",
      "metadata": {
        "id": "KsyZAWrm9XZ8",
        "colab_type": "code",
        "colab": {
          "base_uri": "https://localhost:8080/",
          "height": 214
        },
        "outputId": "9e6059db-84d2-4c52-c6c2-e6023442f16d"
      },
      "source": [
        "\n",
        "df = pd.read_csv('indian_liver_patient.csv')\n",
        "df.head()\n"
      ],
      "execution_count": 2,
      "outputs": [
        {
          "output_type": "execute_result",
          "data": {
            "text/html": [
              "<div>\n",
              "<style scoped>\n",
              "    .dataframe tbody tr th:only-of-type {\n",
              "        vertical-align: middle;\n",
              "    }\n",
              "\n",
              "    .dataframe tbody tr th {\n",
              "        vertical-align: top;\n",
              "    }\n",
              "\n",
              "    .dataframe thead th {\n",
              "        text-align: right;\n",
              "    }\n",
              "</style>\n",
              "<table border=\"1\" class=\"dataframe\">\n",
              "  <thead>\n",
              "    <tr style=\"text-align: right;\">\n",
              "      <th></th>\n",
              "      <th>Age</th>\n",
              "      <th>Gender</th>\n",
              "      <th>Total_Bilirubin</th>\n",
              "      <th>Direct_Bilirubin</th>\n",
              "      <th>Alkaline_Phosphotase</th>\n",
              "      <th>Alamine_Aminotransferase</th>\n",
              "      <th>Aspartate_Aminotransferase</th>\n",
              "      <th>Total_Protiens</th>\n",
              "      <th>Albumin</th>\n",
              "      <th>Albumin_and_Globulin_Ratio</th>\n",
              "      <th>Dataset</th>\n",
              "    </tr>\n",
              "  </thead>\n",
              "  <tbody>\n",
              "    <tr>\n",
              "      <th>0</th>\n",
              "      <td>65</td>\n",
              "      <td>Female</td>\n",
              "      <td>0.7</td>\n",
              "      <td>0.1</td>\n",
              "      <td>187</td>\n",
              "      <td>16</td>\n",
              "      <td>18</td>\n",
              "      <td>6.8</td>\n",
              "      <td>3.3</td>\n",
              "      <td>0.90</td>\n",
              "      <td>1</td>\n",
              "    </tr>\n",
              "    <tr>\n",
              "      <th>1</th>\n",
              "      <td>62</td>\n",
              "      <td>Male</td>\n",
              "      <td>10.9</td>\n",
              "      <td>5.5</td>\n",
              "      <td>699</td>\n",
              "      <td>64</td>\n",
              "      <td>100</td>\n",
              "      <td>7.5</td>\n",
              "      <td>3.2</td>\n",
              "      <td>0.74</td>\n",
              "      <td>1</td>\n",
              "    </tr>\n",
              "    <tr>\n",
              "      <th>2</th>\n",
              "      <td>62</td>\n",
              "      <td>Male</td>\n",
              "      <td>7.3</td>\n",
              "      <td>4.1</td>\n",
              "      <td>490</td>\n",
              "      <td>60</td>\n",
              "      <td>68</td>\n",
              "      <td>7.0</td>\n",
              "      <td>3.3</td>\n",
              "      <td>0.89</td>\n",
              "      <td>1</td>\n",
              "    </tr>\n",
              "    <tr>\n",
              "      <th>3</th>\n",
              "      <td>58</td>\n",
              "      <td>Male</td>\n",
              "      <td>1.0</td>\n",
              "      <td>0.4</td>\n",
              "      <td>182</td>\n",
              "      <td>14</td>\n",
              "      <td>20</td>\n",
              "      <td>6.8</td>\n",
              "      <td>3.4</td>\n",
              "      <td>1.00</td>\n",
              "      <td>1</td>\n",
              "    </tr>\n",
              "    <tr>\n",
              "      <th>4</th>\n",
              "      <td>72</td>\n",
              "      <td>Male</td>\n",
              "      <td>3.9</td>\n",
              "      <td>2.0</td>\n",
              "      <td>195</td>\n",
              "      <td>27</td>\n",
              "      <td>59</td>\n",
              "      <td>7.3</td>\n",
              "      <td>2.4</td>\n",
              "      <td>0.40</td>\n",
              "      <td>1</td>\n",
              "    </tr>\n",
              "  </tbody>\n",
              "</table>\n",
              "</div>"
            ],
            "text/plain": [
              "   Age  Gender  Total_Bilirubin  ...  Albumin  Albumin_and_Globulin_Ratio  Dataset\n",
              "0   65  Female              0.7  ...      3.3                        0.90        1\n",
              "1   62    Male             10.9  ...      3.2                        0.74        1\n",
              "2   62    Male              7.3  ...      3.3                        0.89        1\n",
              "3   58    Male              1.0  ...      3.4                        1.00        1\n",
              "4   72    Male              3.9  ...      2.4                        0.40        1\n",
              "\n",
              "[5 rows x 11 columns]"
            ]
          },
          "metadata": {
            "tags": []
          },
          "execution_count": 2
        }
      ]
    },
    {
      "cell_type": "code",
      "metadata": {
        "id": "BM7UmRSUhNqc",
        "colab_type": "code",
        "colab": {
          "base_uri": "https://localhost:8080/",
          "height": 35
        },
        "outputId": "e1c55e4a-f99f-4fbb-944c-7695086ff22f"
      },
      "source": [
        "df.shape"
      ],
      "execution_count": 3,
      "outputs": [
        {
          "output_type": "execute_result",
          "data": {
            "text/plain": [
              "(583, 11)"
            ]
          },
          "metadata": {
            "tags": []
          },
          "execution_count": 3
        }
      ]
    },
    {
      "cell_type": "code",
      "metadata": {
        "id": "wH2GYKhWhNqf",
        "colab_type": "code",
        "colab": {
          "base_uri": "https://localhost:8080/",
          "height": 337
        },
        "outputId": "f5a1a9f8-a653-4b6b-872b-24f742e9ff9f"
      },
      "source": [
        "df.info()"
      ],
      "execution_count": 4,
      "outputs": [
        {
          "output_type": "stream",
          "text": [
            "<class 'pandas.core.frame.DataFrame'>\n",
            "RangeIndex: 583 entries, 0 to 582\n",
            "Data columns (total 11 columns):\n",
            " #   Column                      Non-Null Count  Dtype  \n",
            "---  ------                      --------------  -----  \n",
            " 0   Age                         583 non-null    int64  \n",
            " 1   Gender                      583 non-null    object \n",
            " 2   Total_Bilirubin             583 non-null    float64\n",
            " 3   Direct_Bilirubin            583 non-null    float64\n",
            " 4   Alkaline_Phosphotase        583 non-null    int64  \n",
            " 5   Alamine_Aminotransferase    583 non-null    int64  \n",
            " 6   Aspartate_Aminotransferase  583 non-null    int64  \n",
            " 7   Total_Protiens              583 non-null    float64\n",
            " 8   Albumin                     583 non-null    float64\n",
            " 9   Albumin_and_Globulin_Ratio  579 non-null    float64\n",
            " 10  Dataset                     583 non-null    int64  \n",
            "dtypes: float64(5), int64(5), object(1)\n",
            "memory usage: 50.2+ KB\n"
          ],
          "name": "stdout"
        }
      ]
    },
    {
      "cell_type": "markdown",
      "metadata": {
        "id": "_6fturaRKmYn",
        "colab_type": "text"
      },
      "source": [
        "There are a total of 583 records and 11 features. Only one categorical variable (Gender) and 10 numeric variables (int and float)"
      ]
    },
    {
      "cell_type": "markdown",
      "metadata": {
        "id": "n7uH6XGxKf95",
        "colab_type": "text"
      },
      "source": [
        "# 3. Descriptive Statistics"
      ]
    },
    {
      "cell_type": "code",
      "metadata": {
        "id": "39ankJwDhNqj",
        "colab_type": "code",
        "colab": {
          "base_uri": "https://localhost:8080/",
          "height": 390
        },
        "outputId": "c8710528-db0c-481d-9726-ea907e975cd6"
      },
      "source": [
        "df.describe(include = 'all')"
      ],
      "execution_count": 5,
      "outputs": [
        {
          "output_type": "execute_result",
          "data": {
            "text/html": [
              "<div>\n",
              "<style scoped>\n",
              "    .dataframe tbody tr th:only-of-type {\n",
              "        vertical-align: middle;\n",
              "    }\n",
              "\n",
              "    .dataframe tbody tr th {\n",
              "        vertical-align: top;\n",
              "    }\n",
              "\n",
              "    .dataframe thead th {\n",
              "        text-align: right;\n",
              "    }\n",
              "</style>\n",
              "<table border=\"1\" class=\"dataframe\">\n",
              "  <thead>\n",
              "    <tr style=\"text-align: right;\">\n",
              "      <th></th>\n",
              "      <th>Age</th>\n",
              "      <th>Gender</th>\n",
              "      <th>Total_Bilirubin</th>\n",
              "      <th>Direct_Bilirubin</th>\n",
              "      <th>Alkaline_Phosphotase</th>\n",
              "      <th>Alamine_Aminotransferase</th>\n",
              "      <th>Aspartate_Aminotransferase</th>\n",
              "      <th>Total_Protiens</th>\n",
              "      <th>Albumin</th>\n",
              "      <th>Albumin_and_Globulin_Ratio</th>\n",
              "      <th>Dataset</th>\n",
              "    </tr>\n",
              "  </thead>\n",
              "  <tbody>\n",
              "    <tr>\n",
              "      <th>count</th>\n",
              "      <td>583.000000</td>\n",
              "      <td>583</td>\n",
              "      <td>583.000000</td>\n",
              "      <td>583.000000</td>\n",
              "      <td>583.000000</td>\n",
              "      <td>583.000000</td>\n",
              "      <td>583.000000</td>\n",
              "      <td>583.000000</td>\n",
              "      <td>583.000000</td>\n",
              "      <td>579.000000</td>\n",
              "      <td>583.000000</td>\n",
              "    </tr>\n",
              "    <tr>\n",
              "      <th>unique</th>\n",
              "      <td>NaN</td>\n",
              "      <td>2</td>\n",
              "      <td>NaN</td>\n",
              "      <td>NaN</td>\n",
              "      <td>NaN</td>\n",
              "      <td>NaN</td>\n",
              "      <td>NaN</td>\n",
              "      <td>NaN</td>\n",
              "      <td>NaN</td>\n",
              "      <td>NaN</td>\n",
              "      <td>NaN</td>\n",
              "    </tr>\n",
              "    <tr>\n",
              "      <th>top</th>\n",
              "      <td>NaN</td>\n",
              "      <td>Male</td>\n",
              "      <td>NaN</td>\n",
              "      <td>NaN</td>\n",
              "      <td>NaN</td>\n",
              "      <td>NaN</td>\n",
              "      <td>NaN</td>\n",
              "      <td>NaN</td>\n",
              "      <td>NaN</td>\n",
              "      <td>NaN</td>\n",
              "      <td>NaN</td>\n",
              "    </tr>\n",
              "    <tr>\n",
              "      <th>freq</th>\n",
              "      <td>NaN</td>\n",
              "      <td>441</td>\n",
              "      <td>NaN</td>\n",
              "      <td>NaN</td>\n",
              "      <td>NaN</td>\n",
              "      <td>NaN</td>\n",
              "      <td>NaN</td>\n",
              "      <td>NaN</td>\n",
              "      <td>NaN</td>\n",
              "      <td>NaN</td>\n",
              "      <td>NaN</td>\n",
              "    </tr>\n",
              "    <tr>\n",
              "      <th>mean</th>\n",
              "      <td>44.746141</td>\n",
              "      <td>NaN</td>\n",
              "      <td>3.298799</td>\n",
              "      <td>1.486106</td>\n",
              "      <td>290.576329</td>\n",
              "      <td>80.713551</td>\n",
              "      <td>109.910806</td>\n",
              "      <td>6.483190</td>\n",
              "      <td>3.141852</td>\n",
              "      <td>0.947064</td>\n",
              "      <td>1.286449</td>\n",
              "    </tr>\n",
              "    <tr>\n",
              "      <th>std</th>\n",
              "      <td>16.189833</td>\n",
              "      <td>NaN</td>\n",
              "      <td>6.209522</td>\n",
              "      <td>2.808498</td>\n",
              "      <td>242.937989</td>\n",
              "      <td>182.620356</td>\n",
              "      <td>288.918529</td>\n",
              "      <td>1.085451</td>\n",
              "      <td>0.795519</td>\n",
              "      <td>0.319592</td>\n",
              "      <td>0.452490</td>\n",
              "    </tr>\n",
              "    <tr>\n",
              "      <th>min</th>\n",
              "      <td>4.000000</td>\n",
              "      <td>NaN</td>\n",
              "      <td>0.400000</td>\n",
              "      <td>0.100000</td>\n",
              "      <td>63.000000</td>\n",
              "      <td>10.000000</td>\n",
              "      <td>10.000000</td>\n",
              "      <td>2.700000</td>\n",
              "      <td>0.900000</td>\n",
              "      <td>0.300000</td>\n",
              "      <td>1.000000</td>\n",
              "    </tr>\n",
              "    <tr>\n",
              "      <th>25%</th>\n",
              "      <td>33.000000</td>\n",
              "      <td>NaN</td>\n",
              "      <td>0.800000</td>\n",
              "      <td>0.200000</td>\n",
              "      <td>175.500000</td>\n",
              "      <td>23.000000</td>\n",
              "      <td>25.000000</td>\n",
              "      <td>5.800000</td>\n",
              "      <td>2.600000</td>\n",
              "      <td>0.700000</td>\n",
              "      <td>1.000000</td>\n",
              "    </tr>\n",
              "    <tr>\n",
              "      <th>50%</th>\n",
              "      <td>45.000000</td>\n",
              "      <td>NaN</td>\n",
              "      <td>1.000000</td>\n",
              "      <td>0.300000</td>\n",
              "      <td>208.000000</td>\n",
              "      <td>35.000000</td>\n",
              "      <td>42.000000</td>\n",
              "      <td>6.600000</td>\n",
              "      <td>3.100000</td>\n",
              "      <td>0.930000</td>\n",
              "      <td>1.000000</td>\n",
              "    </tr>\n",
              "    <tr>\n",
              "      <th>75%</th>\n",
              "      <td>58.000000</td>\n",
              "      <td>NaN</td>\n",
              "      <td>2.600000</td>\n",
              "      <td>1.300000</td>\n",
              "      <td>298.000000</td>\n",
              "      <td>60.500000</td>\n",
              "      <td>87.000000</td>\n",
              "      <td>7.200000</td>\n",
              "      <td>3.800000</td>\n",
              "      <td>1.100000</td>\n",
              "      <td>2.000000</td>\n",
              "    </tr>\n",
              "    <tr>\n",
              "      <th>max</th>\n",
              "      <td>90.000000</td>\n",
              "      <td>NaN</td>\n",
              "      <td>75.000000</td>\n",
              "      <td>19.700000</td>\n",
              "      <td>2110.000000</td>\n",
              "      <td>2000.000000</td>\n",
              "      <td>4929.000000</td>\n",
              "      <td>9.600000</td>\n",
              "      <td>5.500000</td>\n",
              "      <td>2.800000</td>\n",
              "      <td>2.000000</td>\n",
              "    </tr>\n",
              "  </tbody>\n",
              "</table>\n",
              "</div>"
            ],
            "text/plain": [
              "               Age Gender  ...  Albumin_and_Globulin_Ratio     Dataset\n",
              "count   583.000000    583  ...                  579.000000  583.000000\n",
              "unique         NaN      2  ...                         NaN         NaN\n",
              "top            NaN   Male  ...                         NaN         NaN\n",
              "freq           NaN    441  ...                         NaN         NaN\n",
              "mean     44.746141    NaN  ...                    0.947064    1.286449\n",
              "std      16.189833    NaN  ...                    0.319592    0.452490\n",
              "min       4.000000    NaN  ...                    0.300000    1.000000\n",
              "25%      33.000000    NaN  ...                    0.700000    1.000000\n",
              "50%      45.000000    NaN  ...                    0.930000    1.000000\n",
              "75%      58.000000    NaN  ...                    1.100000    2.000000\n",
              "max      90.000000    NaN  ...                    2.800000    2.000000\n",
              "\n",
              "[11 rows x 11 columns]"
            ]
          },
          "metadata": {
            "tags": []
          },
          "execution_count": 5
        }
      ]
    },
    {
      "cell_type": "markdown",
      "metadata": {
        "id": "xnR8DEjtLGO3",
        "colab_type": "text"
      },
      "source": [
        "# 4. Check for null values"
      ]
    },
    {
      "cell_type": "code",
      "metadata": {
        "id": "j-ICmE0phNqn",
        "colab_type": "code",
        "colab": {
          "base_uri": "https://localhost:8080/",
          "height": 230
        },
        "outputId": "3f86bc7c-9837-4078-c076-92d8aa962ae0"
      },
      "source": [
        "df.isnull().sum()"
      ],
      "execution_count": 6,
      "outputs": [
        {
          "output_type": "execute_result",
          "data": {
            "text/plain": [
              "Age                           0\n",
              "Gender                        0\n",
              "Total_Bilirubin               0\n",
              "Direct_Bilirubin              0\n",
              "Alkaline_Phosphotase          0\n",
              "Alamine_Aminotransferase      0\n",
              "Aspartate_Aminotransferase    0\n",
              "Total_Protiens                0\n",
              "Albumin                       0\n",
              "Albumin_and_Globulin_Ratio    4\n",
              "Dataset                       0\n",
              "dtype: int64"
            ]
          },
          "metadata": {
            "tags": []
          },
          "execution_count": 6
        }
      ]
    },
    {
      "cell_type": "markdown",
      "metadata": {
        "id": "e4bbtSRiLMyT",
        "colab_type": "text"
      },
      "source": [
        "There are 4 null values in the feature Albumin_and_Globulin_Ratio. As from the above descriptive statistics, it is observed that the data is almost normal, we can impute these missing values with mean."
      ]
    },
    {
      "cell_type": "code",
      "metadata": {
        "id": "ve8igX4ihNqq",
        "colab_type": "code",
        "colab": {}
      },
      "source": [
        "## Imputing Missing Values\n",
        "\n",
        "df['Albumin_and_Globulin_Ratio'] = df['Albumin_and_Globulin_Ratio'].fillna(df['Albumin_and_Globulin_Ratio'].mean())"
      ],
      "execution_count": 7,
      "outputs": []
    },
    {
      "cell_type": "code",
      "metadata": {
        "id": "fH6mjQB4hNqs",
        "colab_type": "code",
        "colab": {
          "base_uri": "https://localhost:8080/",
          "height": 230
        },
        "outputId": "af7354d8-7ac4-449d-927f-6c66d761214f"
      },
      "source": [
        "df.isnull().sum()"
      ],
      "execution_count": 8,
      "outputs": [
        {
          "output_type": "execute_result",
          "data": {
            "text/plain": [
              "Age                           0\n",
              "Gender                        0\n",
              "Total_Bilirubin               0\n",
              "Direct_Bilirubin              0\n",
              "Alkaline_Phosphotase          0\n",
              "Alamine_Aminotransferase      0\n",
              "Aspartate_Aminotransferase    0\n",
              "Total_Protiens                0\n",
              "Albumin                       0\n",
              "Albumin_and_Globulin_Ratio    0\n",
              "Dataset                       0\n",
              "dtype: int64"
            ]
          },
          "metadata": {
            "tags": []
          },
          "execution_count": 8
        }
      ]
    },
    {
      "cell_type": "markdown",
      "metadata": {
        "id": "8vz5reDKLnXy",
        "colab_type": "text"
      },
      "source": [
        "# 5. Check for class imbalance"
      ]
    },
    {
      "cell_type": "code",
      "metadata": {
        "id": "FoR_F7dRhNqv",
        "colab_type": "code",
        "colab": {
          "base_uri": "https://localhost:8080/",
          "height": 35
        },
        "outputId": "4f6b7d0e-36f1-4f4e-bfcb-83da218c450f"
      },
      "source": [
        "df['Dataset'].unique()"
      ],
      "execution_count": 9,
      "outputs": [
        {
          "output_type": "execute_result",
          "data": {
            "text/plain": [
              "array([1, 2])"
            ]
          },
          "metadata": {
            "tags": []
          },
          "execution_count": 9
        }
      ]
    },
    {
      "cell_type": "code",
      "metadata": {
        "id": "3c6FbiayhNqz",
        "colab_type": "code",
        "colab": {
          "base_uri": "https://localhost:8080/",
          "height": 70
        },
        "outputId": "53a8b92a-1428-450c-8404-ebf7ca951a9c"
      },
      "source": [
        "df['Dataset'].value_counts()"
      ],
      "execution_count": 10,
      "outputs": [
        {
          "output_type": "execute_result",
          "data": {
            "text/plain": [
              "1    416\n",
              "2    167\n",
              "Name: Dataset, dtype: int64"
            ]
          },
          "metadata": {
            "tags": []
          },
          "execution_count": 10
        }
      ]
    },
    {
      "cell_type": "code",
      "metadata": {
        "id": "IxVBq7WIhNq2",
        "colab_type": "code",
        "colab": {
          "base_uri": "https://localhost:8080/",
          "height": 70
        },
        "outputId": "4ec41f8f-958d-445d-9d35-85b199860ba0"
      },
      "source": [
        "df['Dataset'].value_counts(normalize = True)"
      ],
      "execution_count": 11,
      "outputs": [
        {
          "output_type": "execute_result",
          "data": {
            "text/plain": [
              "1    0.713551\n",
              "2    0.286449\n",
              "Name: Dataset, dtype: float64"
            ]
          },
          "metadata": {
            "tags": []
          },
          "execution_count": 11
        }
      ]
    },
    {
      "cell_type": "code",
      "metadata": {
        "id": "gKN_Z-IxLvJp",
        "colab_type": "code",
        "colab": {}
      },
      "source": [
        ""
      ],
      "execution_count": 11,
      "outputs": []
    },
    {
      "cell_type": "markdown",
      "metadata": {
        "id": "z8yArGPQLvli",
        "colab_type": "text"
      },
      "source": [
        "# 6. Exploratory Data Analysis"
      ]
    },
    {
      "cell_type": "code",
      "metadata": {
        "id": "NSlpLbT8hNq5",
        "colab_type": "code",
        "colab": {}
      },
      "source": [
        "\n",
        "\n",
        "import seaborn as sns\n",
        "import matplotlib.pyplot as plt\n",
        "\n",
        "### functions for creating plots\n",
        "def build_hist_plot(num):\n",
        "    fig = plt.figure(figsize=(20,50))\n",
        "    for i in range(0,len(num)):\n",
        "        fig.add_subplot(len(num),len(num)/4,i+1)\n",
        "        sns.distplot(df[num[i]])\n",
        "\n",
        "    plt.show()\n",
        "\n",
        "def build_box_plot(num):\n",
        "    fig = plt.figure(figsize=(20,45))\n",
        "    for i in range(0,len(num)):\n",
        "        fig.add_subplot(len(num),len(num)/4,i+1)\n",
        "        sns.boxplot(df[num[i]])\n",
        "\n",
        "    plt.show()\n",
        "    \n",
        "def build_count_plot(num):\n",
        "    fig = plt.figure(figsize=(15,5))\n",
        "    for i in range(0,len(num)):\n",
        "        fig.add_subplot(len(num),len(num),i+1)\n",
        "        sns.countplot(df[num[i]])\n",
        "        \n",
        "    plt.show()\n"
      ],
      "execution_count": 12,
      "outputs": []
    },
    {
      "cell_type": "code",
      "metadata": {
        "id": "K7YiCOGdhNq8",
        "colab_type": "code",
        "colab": {}
      },
      "source": [
        "### separating the numerical and categorical variables\n",
        "\n",
        "num_cols = df.select_dtypes(exclude = 'object').columns.tolist()\n",
        "cat_cols = df.select_dtypes(include = 'object').columns.tolist()"
      ],
      "execution_count": 13,
      "outputs": []
    },
    {
      "cell_type": "code",
      "metadata": {
        "id": "3KEYwPAohNq-",
        "colab_type": "code",
        "colab": {
          "base_uri": "https://localhost:8080/",
          "height": 1000
        },
        "outputId": "65275ca8-37be-441c-c71d-f6b12648c3d5"
      },
      "source": [
        "build_hist_plot(num_cols)"
      ],
      "execution_count": 14,
      "outputs": [
        {
          "output_type": "display_data",
          "data": {
            "image/png": "[encoded data removed]",
            "text/plain": [
              "<Figure size 1440x3600 with 10 Axes>"
            ]
          },
          "metadata": {
            "tags": [],
            "needs_background": "light"
          }
        }
      ]
    },
    {
      "cell_type": "code",
      "metadata": {
        "id": "ZX1fNHDmhNrA",
        "colab_type": "code",
        "colab": {
          "base_uri": "https://localhost:8080/",
          "height": 185
        },
        "outputId": "39dd0486-0fb6-44c1-d3d2-b3e37b181f16"
      },
      "source": [
        "build_count_plot(['Gender','Dataset'])"
      ],
      "execution_count": 15,
      "outputs": [
        {
          "output_type": "display_data",
          "data": {
            "image/png": "[encoded data removed]",
            "text/plain": [
              "<Figure size 1080x360 with 2 Axes>"
            ]
          },
          "metadata": {
            "tags": [],
            "needs_background": "light"
          }
        }
      ]
    },
    {
      "cell_type": "markdown",
      "metadata": {
        "id": "TfGBK74PucLD",
        "colab_type": "text"
      },
      "source": [
        "## Observations:\n",
        "\n",
        "1. The numerical features like total_bilirubin, direct_bilirubin, alkaline aminotransferase, alamine aminotramsferase are left skewed.\n",
        "\n",
        "2. The records consists of more male patients than female patients."
      ]
    },
    {
      "cell_type": "code",
      "metadata": {
        "id": "q9O_jyb5hNrE",
        "colab_type": "code",
        "colab": {
          "base_uri": "https://localhost:8080/",
          "height": 411
        },
        "outputId": "1da68f7b-6fb1-46e1-e867-66823c0ce4f8"
      },
      "source": [
        "def build_box_plot(num):\n",
        "    fig = plt.figure(figsize=(15,20))\n",
        "    for i in range(0,len(num)):\n",
        "        fig.add_subplot(len(num),len(num)/3,i+1)\n",
        "        sns.boxplot(df['Dataset'], df[num[i]])\n",
        "        \n",
        "    plt.show()\n",
        "    \n",
        "build_box_plot(num_cols[:-1])"
      ],
      "execution_count": 16,
      "outputs": [
        {
          "output_type": "display_data",
          "data": {
            "image/png": "[encoded data removed]",
            "text/plain": [
              "<Figure size 1080x1440 with 9 Axes>"
            ]
          },
          "metadata": {
            "tags": [],
            "needs_background": "light"
          }
        }
      ]
    },
    {
      "cell_type": "code",
      "metadata": {
        "id": "ZG1Jz7kchNrG",
        "colab_type": "code",
        "colab": {
          "base_uri": "https://localhost:8080/",
          "height": 594
        },
        "outputId": "172e76be-db80-476c-c40f-211c13dce225"
      },
      "source": [
        "def build_swarm_plot(num):\n",
        "    fig = plt.figure(figsize=(15,20))\n",
        "    for i in range(0,len(num)):\n",
        "        fig.add_subplot(len(num),len(num)/3,i+1)\n",
        "        sns.swarmplot(df['Dataset'], df[num[i]], hue = df['Gender'])\n",
        "        \n",
        "    plt.show()\n",
        "    \n",
        "build_swarm_plot(num_cols[1:-1])"
      ],
      "execution_count": 17,
      "outputs": [
        {
          "output_type": "display_data",
          "data": {
            "image/png": "[encoded data removed]",
            "text/plain": [
              "<Figure size 1080x1440 with 8 Axes>"
            ]
          },
          "metadata": {
            "tags": [],
            "needs_background": "light"
          }
        }
      ]
    },
    {
      "cell_type": "markdown",
      "metadata": {
        "id": "d4LKAChWxW8K",
        "colab_type": "text"
      },
      "source": [
        "## Observations:\n",
        "\n",
        "1. The patients labelled as 1 (having liver disease) have high amount of total_bilirubin, direct_bilirubin, alkaline aminotransferase, alamine aminotramsferase enzymes in their blood.\n",
        "\n",
        "2. The levels of the enzymes and proteins in males is much higher than females who have the liver disease.\n",
        "\n",
        "3. The males suffer more from liver disease than females.\n"
      ]
    },
    {
      "cell_type": "code",
      "metadata": {
        "id": "ir2fM4X0hNrJ",
        "colab_type": "code",
        "colab": {
          "base_uri": "https://localhost:8080/",
          "height": 456
        },
        "outputId": "5478593c-e45d-4663-d5ea-54dbf41f80a5"
      },
      "source": [
        "plt.figure(figsize = (15,5))\n",
        "x = sns.heatmap(df.corr(), annot = True)\n",
        "b, t = x.get_ylim()\n",
        "x.set_ylim(b + 0.5, t - 0.5)\n",
        "plt.show()"
      ],
      "execution_count": 18,
      "outputs": [
        {
          "output_type": "display_data",
          "data": {
            "image/png": "[encoded data removed]",
            "text/plain": [
              "<Figure size 1080x360 with 2 Axes>"
            ]
          },
          "metadata": {
            "tags": [],
            "needs_background": "light"
          }
        }
      ]
    },
    {
      "cell_type": "code",
      "metadata": {
        "id": "ZnfI_R41hNrL",
        "colab_type": "code",
        "colab": {
          "base_uri": "https://localhost:8080/",
          "height": 35
        },
        "outputId": "e46cc251-4917-4e0c-a08d-560135c4b1c9"
      },
      "source": [
        "df[df['Gender']=='Female']['Age'].mean(), df[df['Gender']=='Male']['Age'].mean()"
      ],
      "execution_count": 19,
      "outputs": [
        {
          "output_type": "execute_result",
          "data": {
            "text/plain": [
              "(43.13380281690141, 45.265306122448976)"
            ]
          },
          "metadata": {
            "tags": []
          },
          "execution_count": 19
        }
      ]
    },
    {
      "cell_type": "markdown",
      "metadata": {
        "id": "RXdCyW3UhNrO",
        "colab_type": "text"
      },
      "source": [
        "# Statistical Significance"
      ]
    },
    {
      "cell_type": "code",
      "metadata": {
        "id": "pD0Vsy95hNrO",
        "colab_type": "code",
        "colab": {
          "base_uri": "https://localhost:8080/",
          "height": 212
        },
        "outputId": "85a3a6f5-bc57-4b18-ad8d-814fdb103e8c"
      },
      "source": [
        "from scipy.stats import mannwhitneyu, chi2_contingency\n",
        "\n",
        "def perform_two_sample_ttest(col):\n",
        "    t, pvalue = mannwhitneyu(df[df['Dataset']==0][col], df[df['Dataset']==1][col])\n",
        "    print('{}: {}'.format(col, pvalue))\n",
        "    \n",
        "for i in num_cols[:-1]:\n",
        "    perform_two_sample_ttest(i)\n"
      ],
      "execution_count": 23,
      "outputs": [
        {
          "output_type": "stream",
          "text": [
            "Age: 0.0\n",
            "Total_Bilirubin: 0.0\n",
            "Direct_Bilirubin: 0.0\n",
            "Alkaline_Phosphotase: 0.0\n",
            "Alamine_Aminotransferase: 0.0\n",
            "Aspartate_Aminotransferase: 0.0\n",
            "Total_Protiens: 0.0\n",
            "Albumin: 0.0\n",
            "Albumin_and_Globulin_Ratio: 0.0\n"
          ],
          "name": "stdout"
        },
        {
          "output_type": "stream",
          "text": [
            "/usr/local/lib/python3.6/dist-packages/scipy/stats/stats.py:6415: RuntimeWarning: divide by zero encountered in double_scalars\n",
            "  z = (bigu - meanrank) / sd\n"
          ],
          "name": "stderr"
        }
      ]
    },
    {
      "cell_type": "code",
      "metadata": {
        "id": "p5rejnVAhNrR",
        "colab_type": "code",
        "colab": {
          "base_uri": "https://localhost:8080/",
          "height": 35
        },
        "outputId": "2f4af348-480e-46f5-8dd5-c072ddaf43cc"
      },
      "source": [
        "def perform_chisquare(col):\n",
        "    t, pvalue, dof, exp = chi2_contingency(pd.crosstab(df[col],df['Dataset']))\n",
        "    print('{}: {}'.format(col, pvalue))\n",
        "    \n",
        "for i in df.select_dtypes(include = 'object').columns.tolist():\n",
        "    perform_chisquare(i)"
      ],
      "execution_count": 24,
      "outputs": [
        {
          "output_type": "stream",
          "text": [
            "Gender: 0.059665846857774464\n"
          ],
          "name": "stdout"
        }
      ]
    },
    {
      "cell_type": "code",
      "metadata": {
        "id": "Y5xfgwbehNrU",
        "colab_type": "code",
        "colab": {}
      },
      "source": [
        "df = df.rename(columns = {'Dataset':'target'})"
      ],
      "execution_count": 25,
      "outputs": []
    },
    {
      "cell_type": "code",
      "metadata": {
        "id": "mEHJOn1thNrX",
        "colab_type": "code",
        "colab": {}
      },
      "source": [
        "df['target'] = df['target'].map({1:1, 2:0})"
      ],
      "execution_count": 26,
      "outputs": []
    },
    {
      "cell_type": "code",
      "metadata": {
        "id": "GLFl1Sm9hNra",
        "colab_type": "code",
        "colab": {
          "base_uri": "https://localhost:8080/",
          "height": 70
        },
        "outputId": "95ac17eb-215d-4b83-8515-175e145bd94b"
      },
      "source": [
        "df['target'].value_counts()"
      ],
      "execution_count": 27,
      "outputs": [
        {
          "output_type": "execute_result",
          "data": {
            "text/plain": [
              "1    416\n",
              "0    167\n",
              "Name: target, dtype: int64"
            ]
          },
          "metadata": {
            "tags": []
          },
          "execution_count": 27
        }
      ]
    },
    {
      "cell_type": "code",
      "metadata": {
        "id": "i51PKqDOhNrc",
        "colab_type": "code",
        "colab": {
          "base_uri": "https://localhost:8080/",
          "height": 214
        },
        "outputId": "215f8c9f-0db3-400a-9685-1a608530168e"
      },
      "source": [
        "## Categorical to Numerical\n",
        "\n",
        "ndf = pd.get_dummies(df, drop_first = True)\n",
        "ndf.head()"
      ],
      "execution_count": 28,
      "outputs": [
        {
          "output_type": "execute_result",
          "data": {
            "text/html": [
              "<div>\n",
              "<style scoped>\n",
              "    .dataframe tbody tr th:only-of-type {\n",
              "        vertical-align: middle;\n",
              "    }\n",
              "\n",
              "    .dataframe tbody tr th {\n",
              "        vertical-align: top;\n",
              "    }\n",
              "\n",
              "    .dataframe thead th {\n",
              "        text-align: right;\n",
              "    }\n",
              "</style>\n",
              "<table border=\"1\" class=\"dataframe\">\n",
              "  <thead>\n",
              "    <tr style=\"text-align: right;\">\n",
              "      <th></th>\n",
              "      <th>Age</th>\n",
              "      <th>Total_Bilirubin</th>\n",
              "      <th>Direct_Bilirubin</th>\n",
              "      <th>Alkaline_Phosphotase</th>\n",
              "      <th>Alamine_Aminotransferase</th>\n",
              "      <th>Aspartate_Aminotransferase</th>\n",
              "      <th>Total_Protiens</th>\n",
              "      <th>Albumin</th>\n",
              "      <th>Albumin_and_Globulin_Ratio</th>\n",
              "      <th>target</th>\n",
              "      <th>Gender_Male</th>\n",
              "    </tr>\n",
              "  </thead>\n",
              "  <tbody>\n",
              "    <tr>\n",
              "      <th>0</th>\n",
              "      <td>65</td>\n",
              "      <td>0.7</td>\n",
              "      <td>0.1</td>\n",
              "      <td>187</td>\n",
              "      <td>16</td>\n",
              "      <td>18</td>\n",
              "      <td>6.8</td>\n",
              "      <td>3.3</td>\n",
              "      <td>0.90</td>\n",
              "      <td>1</td>\n",
              "      <td>0</td>\n",
              "    </tr>\n",
              "    <tr>\n",
              "      <th>1</th>\n",
              "      <td>62</td>\n",
              "      <td>10.9</td>\n",
              "      <td>5.5</td>\n",
              "      <td>699</td>\n",
              "      <td>64</td>\n",
              "      <td>100</td>\n",
              "      <td>7.5</td>\n",
              "      <td>3.2</td>\n",
              "      <td>0.74</td>\n",
              "      <td>1</td>\n",
              "      <td>1</td>\n",
              "    </tr>\n",
              "    <tr>\n",
              "      <th>2</th>\n",
              "      <td>62</td>\n",
              "      <td>7.3</td>\n",
              "      <td>4.1</td>\n",
              "      <td>490</td>\n",
              "      <td>60</td>\n",
              "      <td>68</td>\n",
              "      <td>7.0</td>\n",
              "      <td>3.3</td>\n",
              "      <td>0.89</td>\n",
              "      <td>1</td>\n",
              "      <td>1</td>\n",
              "    </tr>\n",
              "    <tr>\n",
              "      <th>3</th>\n",
              "      <td>58</td>\n",
              "      <td>1.0</td>\n",
              "      <td>0.4</td>\n",
              "      <td>182</td>\n",
              "      <td>14</td>\n",
              "      <td>20</td>\n",
              "      <td>6.8</td>\n",
              "      <td>3.4</td>\n",
              "      <td>1.00</td>\n",
              "      <td>1</td>\n",
              "      <td>1</td>\n",
              "    </tr>\n",
              "    <tr>\n",
              "      <th>4</th>\n",
              "      <td>72</td>\n",
              "      <td>3.9</td>\n",
              "      <td>2.0</td>\n",
              "      <td>195</td>\n",
              "      <td>27</td>\n",
              "      <td>59</td>\n",
              "      <td>7.3</td>\n",
              "      <td>2.4</td>\n",
              "      <td>0.40</td>\n",
              "      <td>1</td>\n",
              "      <td>1</td>\n",
              "    </tr>\n",
              "  </tbody>\n",
              "</table>\n",
              "</div>"
            ],
            "text/plain": [
              "   Age  Total_Bilirubin  ...  target  Gender_Male\n",
              "0   65              0.7  ...       1            0\n",
              "1   62             10.9  ...       1            1\n",
              "2   62              7.3  ...       1            1\n",
              "3   58              1.0  ...       1            1\n",
              "4   72              3.9  ...       1            1\n",
              "\n",
              "[5 rows x 11 columns]"
            ]
          },
          "metadata": {
            "tags": []
          },
          "execution_count": 28
        }
      ]
    },
    {
      "cell_type": "markdown",
      "metadata": {
        "id": "r5yg1sHghNre",
        "colab_type": "text"
      },
      "source": [
        "# Model Building"
      ]
    },
    {
      "cell_type": "code",
      "metadata": {
        "id": "Vw5d-Lb2hNrf",
        "colab_type": "code",
        "colab": {}
      },
      "source": [
        "\n",
        "from sklearn.preprocessing import StandardScaler\n",
        "from sklearn.model_selection import train_test_split, cross_validate\n",
        "from sklearn.decomposition import PCA\n",
        "from sklearn import model_selection\n",
        "from sklearn import feature_selection\n",
        "from sklearn.feature_selection import RFECV\n",
        "\n",
        "from sklearn.model_selection import GridSearchCV, validation_curve, RandomizedSearchCV\n",
        "from sklearn.linear_model import LogisticRegression\n",
        "from sklearn.neighbors import KNeighborsClassifier\n",
        "from sklearn.tree import DecisionTreeClassifier\n",
        "from sklearn.ensemble import RandomForestClassifier,AdaBoostClassifier,BaggingClassifier,GradientBoostingClassifier\n",
        "from xgboost import XGBClassifier\n",
        "from sklearn.metrics import accuracy_score,confusion_matrix, classification_report, f1_score,roc_auc_score, roc_curve, auc, precision_score,recall_score"
      ],
      "execution_count": 29,
      "outputs": []
    },
    {
      "cell_type": "code",
      "metadata": {
        "id": "TP34F247hNrh",
        "colab_type": "code",
        "colab": {}
      },
      "source": [
        "\n",
        "# train test split\n",
        "def perform_train_test_split(x,y,size):\n",
        "    return train_test_split(x, y, test_size = size, random_state = 0)\n",
        "\n",
        "# function for scaling the data for train test split\n",
        "def std_data(xtrain,xtest):\n",
        "    sc = StandardScaler()\n",
        "    scaled = sc.fit(xtrain)\n",
        "    scaled_train = sc.transform(xtrain)\n",
        "    scaled_test = sc.transform(xtest)\n",
        "    return scaled_train, scaled_test\n",
        "\n",
        "# function to scale whole data\n",
        "def std_data_n(x):\n",
        "    sc = StandardScaler()\n",
        "    scaled = sc.fit_transform(x)\n",
        "    return scaled\n",
        "\n",
        "\n",
        "# creating an empty dataframe with headers\n",
        "headers=['AUC Train','AUC Test','Acc Train','Acc Test','Pre Train','Pre Test','Re Train','Re Test']\n",
        "dfObj = pd.DataFrame(columns = headers)\n",
        "\n",
        "# function to get roc_auc_scores for train and test  \n",
        "def fit_predict_plot(xtrain,xtest,ytrain,ytest,models):\n",
        "    \n",
        "    for name, model in models:\n",
        "        print(name)\n",
        "        model.fit(xtrain,ytrain)\n",
        "        \n",
        "        y_pred_train = model.predict(xtrain)\n",
        "        y_pred_test = model.predict(xtest)\n",
        "        \n",
        "        probas_train = model.predict_proba(xtrain)[:,1]\n",
        "        probas_test = model.predict_proba(xtest)[:,1]\n",
        "\n",
        "        model_name = name \n",
        "        \n",
        "        #plot_roc_auc_curve(probas_train,probas_test,ytrain,ytest,name)\n",
        "        \n",
        "        return get_metrics(ytrain,ytest,y_pred_train,y_pred_test,probas_train,probas_test,model_name)\n",
        "    \n",
        "# function to get roc_auc_scores for train and test  \n",
        "def fit_predict_plot1(xtrain,xtest,ytrain,ytest,model):\n",
        "    \n",
        "        print(model[0])\n",
        "        model.fit(xtrain,ytrain)\n",
        "        \n",
        "        y_pred_train = model[1].predict(xtrain)\n",
        "        y_pred_test = model[1].predict(xtest)\n",
        "        \n",
        "        probas_train = model[1].predict_proba(xtrain)[:,1]\n",
        "        probas_test = model[1].predict_proba(xtest)[:,1]\n",
        "\n",
        "        model_name = model[0] \n",
        "        \n",
        "        #plot_roc_auc_curve(probas_train,probas_test,ytrain,ytest,name)\n",
        "        \n",
        "        return get_metrics(ytrain,ytest,y_pred_train,y_pred_test,probas_train,probas_test,model_name)\n",
        "    \n",
        "# function to get all other metrics\n",
        "def get_metrics(y_train,y_test,y_pred_train,y_pred_test,probas_train,probas_test,name):\n",
        "        global dfObj\n",
        "        print('Confusion Matrix:\\n')\n",
        "        print('For Train Data:\\n')\n",
        "        print(confusion_matrix(y_train,y_pred_train))\n",
        "        #print('Classification Report:\\n',classification_report(y_train,y_pred_train))\n",
        "        \n",
        "        print('\\n For Test Data:\\n')\n",
        "        print(confusion_matrix(y_test,y_pred_test))\n",
        "        #print('Classification Report:\\n',classification_report(y_test,y_pred_test))\n",
        "\n",
        "        dfObj.loc[name] = [roc_auc_score(y_train,probas_train), roc_auc_score(y_test,probas_test),\n",
        "                           accuracy_score(y_train, y_pred_train), accuracy_score(y_test, y_pred_test),\n",
        "                           precision_score(y_train, y_pred_train), precision_score(y_test, y_pred_test),\n",
        "                           recall_score(y_train, y_pred_train), recall_score(y_test, y_pred_test)]\n",
        "        return dfObj\n",
        "    \n"
      ],
      "execution_count": 30,
      "outputs": []
    },
    {
      "cell_type": "code",
      "metadata": {
        "id": "kdIKiUgbhNrl",
        "colab_type": "code",
        "colab": {}
      },
      "source": [
        "## Models \n",
        "KNN = KNeighborsClassifier()\n",
        "LogReg = LogisticRegression(max_iter = 1000, random_state = 21)\n",
        "DT  = DecisionTreeClassifier(random_state = 21)\n",
        "RF = RandomForestClassifier(random_state = 21)\n",
        "\n"
      ],
      "execution_count": 31,
      "outputs": []
    },
    {
      "cell_type": "code",
      "metadata": {
        "id": "EB8H5mGzhNro",
        "colab_type": "code",
        "colab": {}
      },
      "source": [
        "## Splitting the data into train and test sets\n",
        "\n",
        "X = ndf.drop(['target'], axis = 1)\n",
        "Y = ndf['target']\n",
        "\n",
        "X_train, X_test, y_train, y_test = perform_train_test_split(X, Y, 0.3)\n",
        "\n",
        "scaled_train, scaled_test = std_data(X_train,X_test)"
      ],
      "execution_count": 32,
      "outputs": []
    },
    {
      "cell_type": "code",
      "metadata": {
        "id": "phMn-FbehNrq",
        "colab_type": "code",
        "colab": {
          "base_uri": "https://localhost:8080/",
          "height": 290
        },
        "outputId": "d2fdf76e-e726-4b9c-d34f-29bb41a2f04b"
      },
      "source": [
        "## Model 1: KNN\n",
        "\n",
        "models = [('KNN',KNN)]\n",
        "\n",
        "fit_predict_plot(scaled_train, scaled_test, y_train, y_test, models)"
      ],
      "execution_count": 33,
      "outputs": [
        {
          "output_type": "stream",
          "text": [
            "KNN\n",
            "Confusion Matrix:\n",
            "\n",
            "For Train Data:\n",
            "\n",
            "[[ 59  55]\n",
            " [ 32 262]]\n",
            "\n",
            " For Test Data:\n",
            "\n",
            "[[13 40]\n",
            " [25 97]]\n"
          ],
          "name": "stdout"
        },
        {
          "output_type": "execute_result",
          "data": {
            "text/html": [
              "<div>\n",
              "<style scoped>\n",
              "    .dataframe tbody tr th:only-of-type {\n",
              "        vertical-align: middle;\n",
              "    }\n",
              "\n",
              "    .dataframe tbody tr th {\n",
              "        vertical-align: top;\n",
              "    }\n",
              "\n",
              "    .dataframe thead th {\n",
              "        text-align: right;\n",
              "    }\n",
              "</style>\n",
              "<table border=\"1\" class=\"dataframe\">\n",
              "  <thead>\n",
              "    <tr style=\"text-align: right;\">\n",
              "      <th></th>\n",
              "      <th>AUC Train</th>\n",
              "      <th>AUC Test</th>\n",
              "      <th>Acc Train</th>\n",
              "      <th>Acc Test</th>\n",
              "      <th>Pre Train</th>\n",
              "      <th>Pre Test</th>\n",
              "      <th>Re Train</th>\n",
              "      <th>Re Test</th>\n",
              "    </tr>\n",
              "  </thead>\n",
              "  <tbody>\n",
              "    <tr>\n",
              "      <th>KNN</th>\n",
              "      <td>0.835109</td>\n",
              "      <td>0.602846</td>\n",
              "      <td>0.786765</td>\n",
              "      <td>0.628571</td>\n",
              "      <td>0.826498</td>\n",
              "      <td>0.708029</td>\n",
              "      <td>0.891156</td>\n",
              "      <td>0.795082</td>\n",
              "    </tr>\n",
              "  </tbody>\n",
              "</table>\n",
              "</div>"
            ],
            "text/plain": [
              "     AUC Train  AUC Test  Acc Train  ...  Pre Test  Re Train   Re Test\n",
              "KNN   0.835109  0.602846   0.786765  ...  0.708029  0.891156  0.795082\n",
              "\n",
              "[1 rows x 8 columns]"
            ]
          },
          "metadata": {
            "tags": []
          },
          "execution_count": 33
        }
      ]
    },
    {
      "cell_type": "code",
      "metadata": {
        "id": "khN8VQgYhNrs",
        "colab_type": "code",
        "colab": {
          "base_uri": "https://localhost:8080/",
          "height": 319
        },
        "outputId": "5c241756-a988-484a-b0c7-973c31b8eda9"
      },
      "source": [
        "## Model 2: Logistic Regression\n",
        "\n",
        "models = [('LogReg',LogReg)]\n",
        "\n",
        "fit_predict_plot(scaled_train, scaled_test, y_train, y_test, models)\n",
        "\n"
      ],
      "execution_count": 34,
      "outputs": [
        {
          "output_type": "stream",
          "text": [
            "LogReg\n",
            "Confusion Matrix:\n",
            "\n",
            "For Train Data:\n",
            "\n",
            "[[ 26  88]\n",
            " [ 16 278]]\n",
            "\n",
            " For Test Data:\n",
            "\n",
            "[[  9  44]\n",
            " [ 11 111]]\n"
          ],
          "name": "stdout"
        },
        {
          "output_type": "execute_result",
          "data": {
            "text/html": [
              "<div>\n",
              "<style scoped>\n",
              "    .dataframe tbody tr th:only-of-type {\n",
              "        vertical-align: middle;\n",
              "    }\n",
              "\n",
              "    .dataframe tbody tr th {\n",
              "        vertical-align: top;\n",
              "    }\n",
              "\n",
              "    .dataframe thead th {\n",
              "        text-align: right;\n",
              "    }\n",
              "</style>\n",
              "<table border=\"1\" class=\"dataframe\">\n",
              "  <thead>\n",
              "    <tr style=\"text-align: right;\">\n",
              "      <th></th>\n",
              "      <th>AUC Train</th>\n",
              "      <th>AUC Test</th>\n",
              "      <th>Acc Train</th>\n",
              "      <th>Acc Test</th>\n",
              "      <th>Pre Train</th>\n",
              "      <th>Pre Test</th>\n",
              "      <th>Re Train</th>\n",
              "      <th>Re Test</th>\n",
              "    </tr>\n",
              "  </thead>\n",
              "  <tbody>\n",
              "    <tr>\n",
              "      <th>KNN</th>\n",
              "      <td>0.835109</td>\n",
              "      <td>0.602846</td>\n",
              "      <td>0.786765</td>\n",
              "      <td>0.628571</td>\n",
              "      <td>0.826498</td>\n",
              "      <td>0.708029</td>\n",
              "      <td>0.891156</td>\n",
              "      <td>0.795082</td>\n",
              "    </tr>\n",
              "    <tr>\n",
              "      <th>LogReg</th>\n",
              "      <td>0.770438</td>\n",
              "      <td>0.746056</td>\n",
              "      <td>0.745098</td>\n",
              "      <td>0.685714</td>\n",
              "      <td>0.759563</td>\n",
              "      <td>0.716129</td>\n",
              "      <td>0.945578</td>\n",
              "      <td>0.909836</td>\n",
              "    </tr>\n",
              "  </tbody>\n",
              "</table>\n",
              "</div>"
            ],
            "text/plain": [
              "        AUC Train  AUC Test  Acc Train  ...  Pre Test  Re Train   Re Test\n",
              "KNN      0.835109  0.602846   0.786765  ...  0.708029  0.891156  0.795082\n",
              "LogReg   0.770438  0.746056   0.745098  ...  0.716129  0.945578  0.909836\n",
              "\n",
              "[2 rows x 8 columns]"
            ]
          },
          "metadata": {
            "tags": []
          },
          "execution_count": 34
        }
      ]
    },
    {
      "cell_type": "code",
      "metadata": {
        "id": "OTfv6fGohNrv",
        "colab_type": "code",
        "colab": {}
      },
      "source": [
        ""
      ],
      "execution_count": null,
      "outputs": []
    },
    {
      "cell_type": "code",
      "metadata": {
        "id": "k-R9Zf2MhNrx",
        "colab_type": "code",
        "colab": {
          "base_uri": "https://localhost:8080/",
          "height": 348
        },
        "outputId": "df16c508-887f-47d1-9ca0-609bd8e5a896"
      },
      "source": [
        "## Model 3: Decision Tree\n",
        "models = [('DT',DT)]\n",
        "\n",
        "fit_predict_plot(scaled_train, scaled_test, y_train, y_test, models)\n",
        "\n"
      ],
      "execution_count": 35,
      "outputs": [
        {
          "output_type": "stream",
          "text": [
            "DT\n",
            "Confusion Matrix:\n",
            "\n",
            "For Train Data:\n",
            "\n",
            "[[114   0]\n",
            " [  0 294]]\n",
            "\n",
            " For Test Data:\n",
            "\n",
            "[[19 34]\n",
            " [29 93]]\n"
          ],
          "name": "stdout"
        },
        {
          "output_type": "execute_result",
          "data": {
            "text/html": [
              "<div>\n",
              "<style scoped>\n",
              "    .dataframe tbody tr th:only-of-type {\n",
              "        vertical-align: middle;\n",
              "    }\n",
              "\n",
              "    .dataframe tbody tr th {\n",
              "        vertical-align: top;\n",
              "    }\n",
              "\n",
              "    .dataframe thead th {\n",
              "        text-align: right;\n",
              "    }\n",
              "</style>\n",
              "<table border=\"1\" class=\"dataframe\">\n",
              "  <thead>\n",
              "    <tr style=\"text-align: right;\">\n",
              "      <th></th>\n",
              "      <th>AUC Train</th>\n",
              "      <th>AUC Test</th>\n",
              "      <th>Acc Train</th>\n",
              "      <th>Acc Test</th>\n",
              "      <th>Pre Train</th>\n",
              "      <th>Pre Test</th>\n",
              "      <th>Re Train</th>\n",
              "      <th>Re Test</th>\n",
              "    </tr>\n",
              "  </thead>\n",
              "  <tbody>\n",
              "    <tr>\n",
              "      <th>KNN</th>\n",
              "      <td>0.835109</td>\n",
              "      <td>0.602846</td>\n",
              "      <td>0.786765</td>\n",
              "      <td>0.628571</td>\n",
              "      <td>0.826498</td>\n",
              "      <td>0.708029</td>\n",
              "      <td>0.891156</td>\n",
              "      <td>0.795082</td>\n",
              "    </tr>\n",
              "    <tr>\n",
              "      <th>LogReg</th>\n",
              "      <td>0.770438</td>\n",
              "      <td>0.746056</td>\n",
              "      <td>0.745098</td>\n",
              "      <td>0.685714</td>\n",
              "      <td>0.759563</td>\n",
              "      <td>0.716129</td>\n",
              "      <td>0.945578</td>\n",
              "      <td>0.909836</td>\n",
              "    </tr>\n",
              "    <tr>\n",
              "      <th>DT</th>\n",
              "      <td>1.000000</td>\n",
              "      <td>0.560393</td>\n",
              "      <td>1.000000</td>\n",
              "      <td>0.640000</td>\n",
              "      <td>1.000000</td>\n",
              "      <td>0.732283</td>\n",
              "      <td>1.000000</td>\n",
              "      <td>0.762295</td>\n",
              "    </tr>\n",
              "  </tbody>\n",
              "</table>\n",
              "</div>"
            ],
            "text/plain": [
              "        AUC Train  AUC Test  Acc Train  ...  Pre Test  Re Train   Re Test\n",
              "KNN      0.835109  0.602846   0.786765  ...  0.708029  0.891156  0.795082\n",
              "LogReg   0.770438  0.746056   0.745098  ...  0.716129  0.945578  0.909836\n",
              "DT       1.000000  0.560393   1.000000  ...  0.732283  1.000000  0.762295\n",
              "\n",
              "[3 rows x 8 columns]"
            ]
          },
          "metadata": {
            "tags": []
          },
          "execution_count": 35
        }
      ]
    },
    {
      "cell_type": "code",
      "metadata": {
        "id": "oU2PbC69hNrz",
        "colab_type": "code",
        "colab": {}
      },
      "source": [
        ""
      ],
      "execution_count": null,
      "outputs": []
    },
    {
      "cell_type": "code",
      "metadata": {
        "id": "x0ZAg1yBhNr1",
        "colab_type": "code",
        "colab": {
          "base_uri": "https://localhost:8080/",
          "height": 378
        },
        "outputId": "32b3ba3a-2972-4fd4-eef4-f418291755a2"
      },
      "source": [
        "## Model 4: Random Forest\n",
        "\n",
        "models = [('RF',RF)]\n",
        "\n",
        "fit_predict_plot(scaled_train, scaled_test, y_train, y_test, models)"
      ],
      "execution_count": 36,
      "outputs": [
        {
          "output_type": "stream",
          "text": [
            "RF\n",
            "Confusion Matrix:\n",
            "\n",
            "For Train Data:\n",
            "\n",
            "[[114   0]\n",
            " [  0 294]]\n",
            "\n",
            " For Test Data:\n",
            "\n",
            "[[ 12  41]\n",
            " [ 14 108]]\n"
          ],
          "name": "stdout"
        },
        {
          "output_type": "execute_result",
          "data": {
            "text/html": [
              "<div>\n",
              "<style scoped>\n",
              "    .dataframe tbody tr th:only-of-type {\n",
              "        vertical-align: middle;\n",
              "    }\n",
              "\n",
              "    .dataframe tbody tr th {\n",
              "        vertical-align: top;\n",
              "    }\n",
              "\n",
              "    .dataframe thead th {\n",
              "        text-align: right;\n",
              "    }\n",
              "</style>\n",
              "<table border=\"1\" class=\"dataframe\">\n",
              "  <thead>\n",
              "    <tr style=\"text-align: right;\">\n",
              "      <th></th>\n",
              "      <th>AUC Train</th>\n",
              "      <th>AUC Test</th>\n",
              "      <th>Acc Train</th>\n",
              "      <th>Acc Test</th>\n",
              "      <th>Pre Train</th>\n",
              "      <th>Pre Test</th>\n",
              "      <th>Re Train</th>\n",
              "      <th>Re Test</th>\n",
              "    </tr>\n",
              "  </thead>\n",
              "  <tbody>\n",
              "    <tr>\n",
              "      <th>KNN</th>\n",
              "      <td>0.835109</td>\n",
              "      <td>0.602846</td>\n",
              "      <td>0.786765</td>\n",
              "      <td>0.628571</td>\n",
              "      <td>0.826498</td>\n",
              "      <td>0.708029</td>\n",
              "      <td>0.891156</td>\n",
              "      <td>0.795082</td>\n",
              "    </tr>\n",
              "    <tr>\n",
              "      <th>LogReg</th>\n",
              "      <td>0.770438</td>\n",
              "      <td>0.746056</td>\n",
              "      <td>0.745098</td>\n",
              "      <td>0.685714</td>\n",
              "      <td>0.759563</td>\n",
              "      <td>0.716129</td>\n",
              "      <td>0.945578</td>\n",
              "      <td>0.909836</td>\n",
              "    </tr>\n",
              "    <tr>\n",
              "      <th>DT</th>\n",
              "      <td>1.000000</td>\n",
              "      <td>0.560393</td>\n",
              "      <td>1.000000</td>\n",
              "      <td>0.640000</td>\n",
              "      <td>1.000000</td>\n",
              "      <td>0.732283</td>\n",
              "      <td>1.000000</td>\n",
              "      <td>0.762295</td>\n",
              "    </tr>\n",
              "    <tr>\n",
              "      <th>RF</th>\n",
              "      <td>1.000000</td>\n",
              "      <td>0.728812</td>\n",
              "      <td>1.000000</td>\n",
              "      <td>0.685714</td>\n",
              "      <td>1.000000</td>\n",
              "      <td>0.724832</td>\n",
              "      <td>1.000000</td>\n",
              "      <td>0.885246</td>\n",
              "    </tr>\n",
              "  </tbody>\n",
              "</table>\n",
              "</div>"
            ],
            "text/plain": [
              "        AUC Train  AUC Test  Acc Train  ...  Pre Test  Re Train   Re Test\n",
              "KNN      0.835109  0.602846   0.786765  ...  0.708029  0.891156  0.795082\n",
              "LogReg   0.770438  0.746056   0.745098  ...  0.716129  0.945578  0.909836\n",
              "DT       1.000000  0.560393   1.000000  ...  0.732283  1.000000  0.762295\n",
              "RF       1.000000  0.728812   1.000000  ...  0.724832  1.000000  0.885246\n",
              "\n",
              "[4 rows x 8 columns]"
            ]
          },
          "metadata": {
            "tags": []
          },
          "execution_count": 36
        }
      ]
    },
    {
      "cell_type": "markdown",
      "metadata": {
        "id": "dBZlwdGh1VSn",
        "colab_type": "text"
      },
      "source": [
        "Here, evaluation metric considered is Recall to compare the models built.\n",
        "From the above scores of train and test sets, it is observed that there is high variance and also there is some sort of class imbalance as the proportion of people not having the disease is low, also we have high values for false positives and negatives."
      ]
    },
    {
      "cell_type": "markdown",
      "metadata": {
        "id": "ophhxWo1hNr6",
        "colab_type": "text"
      },
      "source": [
        "# SMOTE Analysis"
      ]
    },
    {
      "cell_type": "code",
      "metadata": {
        "id": "r56NK-c1hNr7",
        "colab_type": "code",
        "colab": {
          "base_uri": "https://localhost:8080/",
          "height": 144
        },
        "outputId": "795c5dad-7807-4686-8865-0b1e94ada51f"
      },
      "source": [
        "from imblearn.over_sampling import SMOTE\n",
        "\n",
        "X = ndf.drop('target', axis = 1)\n",
        "y = ndf['target']\n",
        "\n",
        "# transform the dataset\n",
        "oversample = SMOTE(sampling_strategy = 0.50)\n",
        "X_smote, y = oversample.fit_resample(X, y)"
      ],
      "execution_count": 37,
      "outputs": [
        {
          "output_type": "stream",
          "text": [
            "/usr/local/lib/python3.6/dist-packages/sklearn/externals/six.py:31: FutureWarning: The module is deprecated in version 0.21 and will be removed in version 0.23 since we've dropped support for Python 2.7. Please rely on the official version of six (https://pypi.org/project/six/).\n",
            "  \"(https://pypi.org/project/six/).\", FutureWarning)\n",
            "/usr/local/lib/python3.6/dist-packages/sklearn/utils/deprecation.py:144: FutureWarning: The sklearn.neighbors.base module is  deprecated in version 0.22 and will be removed in version 0.24. The corresponding classes / functions should instead be imported from sklearn.neighbors. Anything that cannot be imported from sklearn.neighbors is now part of the private API.\n",
            "  warnings.warn(message, FutureWarning)\n",
            "/usr/local/lib/python3.6/dist-packages/sklearn/utils/deprecation.py:87: FutureWarning: Function safe_indexing is deprecated; safe_indexing is deprecated in version 0.22 and will be removed in version 0.24.\n",
            "  warnings.warn(msg, category=FutureWarning)\n"
          ],
          "name": "stderr"
        }
      ]
    },
    {
      "cell_type": "code",
      "metadata": {
        "id": "YJu18wdEhNr-",
        "colab_type": "code",
        "colab": {}
      },
      "source": [
        "## Splitting the data into train and test sets\n",
        "\n",
        "X = X_smote\n",
        "Y = y\n",
        "\n",
        "X_train, X_test, y_train, y_test = perform_train_test_split(X, Y, 0.3)\n",
        "\n",
        "scaled_train, scaled_test = std_data(X_train,X_test)\n",
        "\n"
      ],
      "execution_count": 38,
      "outputs": []
    },
    {
      "cell_type": "code",
      "metadata": {
        "id": "stjvbneuhNsA",
        "colab_type": "code",
        "colab": {}
      },
      "source": [
        ""
      ],
      "execution_count": null,
      "outputs": []
    },
    {
      "cell_type": "code",
      "metadata": {
        "id": "aLCyVNKyhNsC",
        "colab_type": "code",
        "colab": {
          "base_uri": "https://localhost:8080/",
          "height": 378
        },
        "outputId": "20a9a948-c387-4e1b-9f26-227cb3305889"
      },
      "source": [
        "## Model 1: KNN\n",
        "\n",
        "models = [('KNN',KNN)]\n",
        "\n",
        "fit_predict_plot(scaled_train, scaled_test, y_train, y_test, models)\n",
        "\n"
      ],
      "execution_count": 39,
      "outputs": [
        {
          "output_type": "stream",
          "text": [
            "KNN\n",
            "Confusion Matrix:\n",
            "\n",
            "For Train Data:\n",
            "\n",
            "[[ 87  53]\n",
            " [ 37 259]]\n",
            "\n",
            " For Test Data:\n",
            "\n",
            "[[27 41]\n",
            " [27 93]]\n"
          ],
          "name": "stdout"
        },
        {
          "output_type": "execute_result",
          "data": {
            "text/html": [
              "<div>\n",
              "<style scoped>\n",
              "    .dataframe tbody tr th:only-of-type {\n",
              "        vertical-align: middle;\n",
              "    }\n",
              "\n",
              "    .dataframe tbody tr th {\n",
              "        vertical-align: top;\n",
              "    }\n",
              "\n",
              "    .dataframe thead th {\n",
              "        text-align: right;\n",
              "    }\n",
              "</style>\n",
              "<table border=\"1\" class=\"dataframe\">\n",
              "  <thead>\n",
              "    <tr style=\"text-align: right;\">\n",
              "      <th></th>\n",
              "      <th>AUC Train</th>\n",
              "      <th>AUC Test</th>\n",
              "      <th>Acc Train</th>\n",
              "      <th>Acc Test</th>\n",
              "      <th>Pre Train</th>\n",
              "      <th>Pre Test</th>\n",
              "      <th>Re Train</th>\n",
              "      <th>Re Test</th>\n",
              "    </tr>\n",
              "  </thead>\n",
              "  <tbody>\n",
              "    <tr>\n",
              "      <th>KNN</th>\n",
              "      <td>0.850181</td>\n",
              "      <td>0.706801</td>\n",
              "      <td>0.793578</td>\n",
              "      <td>0.638298</td>\n",
              "      <td>0.830128</td>\n",
              "      <td>0.694030</td>\n",
              "      <td>0.875000</td>\n",
              "      <td>0.775000</td>\n",
              "    </tr>\n",
              "    <tr>\n",
              "      <th>LogReg</th>\n",
              "      <td>0.770438</td>\n",
              "      <td>0.746056</td>\n",
              "      <td>0.745098</td>\n",
              "      <td>0.685714</td>\n",
              "      <td>0.759563</td>\n",
              "      <td>0.716129</td>\n",
              "      <td>0.945578</td>\n",
              "      <td>0.909836</td>\n",
              "    </tr>\n",
              "    <tr>\n",
              "      <th>DT</th>\n",
              "      <td>1.000000</td>\n",
              "      <td>0.560393</td>\n",
              "      <td>1.000000</td>\n",
              "      <td>0.640000</td>\n",
              "      <td>1.000000</td>\n",
              "      <td>0.732283</td>\n",
              "      <td>1.000000</td>\n",
              "      <td>0.762295</td>\n",
              "    </tr>\n",
              "    <tr>\n",
              "      <th>RF</th>\n",
              "      <td>1.000000</td>\n",
              "      <td>0.728812</td>\n",
              "      <td>1.000000</td>\n",
              "      <td>0.685714</td>\n",
              "      <td>1.000000</td>\n",
              "      <td>0.724832</td>\n",
              "      <td>1.000000</td>\n",
              "      <td>0.885246</td>\n",
              "    </tr>\n",
              "  </tbody>\n",
              "</table>\n",
              "</div>"
            ],
            "text/plain": [
              "        AUC Train  AUC Test  Acc Train  ...  Pre Test  Re Train   Re Test\n",
              "KNN      0.850181  0.706801   0.793578  ...  0.694030  0.875000  0.775000\n",
              "LogReg   0.770438  0.746056   0.745098  ...  0.716129  0.945578  0.909836\n",
              "DT       1.000000  0.560393   1.000000  ...  0.732283  1.000000  0.762295\n",
              "RF       1.000000  0.728812   1.000000  ...  0.724832  1.000000  0.885246\n",
              "\n",
              "[4 rows x 8 columns]"
            ]
          },
          "metadata": {
            "tags": []
          },
          "execution_count": 39
        }
      ]
    },
    {
      "cell_type": "code",
      "metadata": {
        "id": "aA2bpxtChNsF",
        "colab_type": "code",
        "colab": {
          "base_uri": "https://localhost:8080/",
          "height": 378
        },
        "outputId": "30f47b04-ec33-46f6-c06d-732b252f4d3b"
      },
      "source": [
        "## Model 2: Logistic Regression\n",
        "\n",
        "models = [('LogReg',LogReg)]\n",
        "\n",
        "fit_predict_plot(scaled_train, scaled_test, y_train, y_test, models)\n"
      ],
      "execution_count": 40,
      "outputs": [
        {
          "output_type": "stream",
          "text": [
            "LogReg\n",
            "Confusion Matrix:\n",
            "\n",
            "For Train Data:\n",
            "\n",
            "[[ 43  97]\n",
            " [ 31 265]]\n",
            "\n",
            " For Test Data:\n",
            "\n",
            "[[ 21  47]\n",
            " [ 12 108]]\n"
          ],
          "name": "stdout"
        },
        {
          "output_type": "execute_result",
          "data": {
            "text/html": [
              "<div>\n",
              "<style scoped>\n",
              "    .dataframe tbody tr th:only-of-type {\n",
              "        vertical-align: middle;\n",
              "    }\n",
              "\n",
              "    .dataframe tbody tr th {\n",
              "        vertical-align: top;\n",
              "    }\n",
              "\n",
              "    .dataframe thead th {\n",
              "        text-align: right;\n",
              "    }\n",
              "</style>\n",
              "<table border=\"1\" class=\"dataframe\">\n",
              "  <thead>\n",
              "    <tr style=\"text-align: right;\">\n",
              "      <th></th>\n",
              "      <th>AUC Train</th>\n",
              "      <th>AUC Test</th>\n",
              "      <th>Acc Train</th>\n",
              "      <th>Acc Test</th>\n",
              "      <th>Pre Train</th>\n",
              "      <th>Pre Test</th>\n",
              "      <th>Re Train</th>\n",
              "      <th>Re Test</th>\n",
              "    </tr>\n",
              "  </thead>\n",
              "  <tbody>\n",
              "    <tr>\n",
              "      <th>KNN</th>\n",
              "      <td>0.850181</td>\n",
              "      <td>0.706801</td>\n",
              "      <td>0.793578</td>\n",
              "      <td>0.638298</td>\n",
              "      <td>0.830128</td>\n",
              "      <td>0.694030</td>\n",
              "      <td>0.87500</td>\n",
              "      <td>0.775000</td>\n",
              "    </tr>\n",
              "    <tr>\n",
              "      <th>LogReg</th>\n",
              "      <td>0.767978</td>\n",
              "      <td>0.770588</td>\n",
              "      <td>0.706422</td>\n",
              "      <td>0.686170</td>\n",
              "      <td>0.732044</td>\n",
              "      <td>0.696774</td>\n",
              "      <td>0.89527</td>\n",
              "      <td>0.900000</td>\n",
              "    </tr>\n",
              "    <tr>\n",
              "      <th>DT</th>\n",
              "      <td>1.000000</td>\n",
              "      <td>0.560393</td>\n",
              "      <td>1.000000</td>\n",
              "      <td>0.640000</td>\n",
              "      <td>1.000000</td>\n",
              "      <td>0.732283</td>\n",
              "      <td>1.00000</td>\n",
              "      <td>0.762295</td>\n",
              "    </tr>\n",
              "    <tr>\n",
              "      <th>RF</th>\n",
              "      <td>1.000000</td>\n",
              "      <td>0.728812</td>\n",
              "      <td>1.000000</td>\n",
              "      <td>0.685714</td>\n",
              "      <td>1.000000</td>\n",
              "      <td>0.724832</td>\n",
              "      <td>1.00000</td>\n",
              "      <td>0.885246</td>\n",
              "    </tr>\n",
              "  </tbody>\n",
              "</table>\n",
              "</div>"
            ],
            "text/plain": [
              "        AUC Train  AUC Test  Acc Train  ...  Pre Test  Re Train   Re Test\n",
              "KNN      0.850181  0.706801   0.793578  ...  0.694030   0.87500  0.775000\n",
              "LogReg   0.767978  0.770588   0.706422  ...  0.696774   0.89527  0.900000\n",
              "DT       1.000000  0.560393   1.000000  ...  0.732283   1.00000  0.762295\n",
              "RF       1.000000  0.728812   1.000000  ...  0.724832   1.00000  0.885246\n",
              "\n",
              "[4 rows x 8 columns]"
            ]
          },
          "metadata": {
            "tags": []
          },
          "execution_count": 40
        }
      ]
    },
    {
      "cell_type": "code",
      "metadata": {
        "id": "pvGDSKi2hNsJ",
        "colab_type": "code",
        "colab": {
          "base_uri": "https://localhost:8080/",
          "height": 378
        },
        "outputId": "2591429f-68f1-4f1c-8c1f-4c3eb18e92be"
      },
      "source": [
        "## Model 3: Random Forest\n",
        "\n",
        "models = [('RF',RF)]\n",
        "\n",
        "fit_predict_plot(scaled_train, scaled_test, y_train, y_test, models)"
      ],
      "execution_count": 41,
      "outputs": [
        {
          "output_type": "stream",
          "text": [
            "RF\n",
            "Confusion Matrix:\n",
            "\n",
            "For Train Data:\n",
            "\n",
            "[[140   0]\n",
            " [  0 296]]\n",
            "\n",
            " For Test Data:\n",
            "\n",
            "[[ 31  37]\n",
            " [ 17 103]]\n"
          ],
          "name": "stdout"
        },
        {
          "output_type": "execute_result",
          "data": {
            "text/html": [
              "<div>\n",
              "<style scoped>\n",
              "    .dataframe tbody tr th:only-of-type {\n",
              "        vertical-align: middle;\n",
              "    }\n",
              "\n",
              "    .dataframe tbody tr th {\n",
              "        vertical-align: top;\n",
              "    }\n",
              "\n",
              "    .dataframe thead th {\n",
              "        text-align: right;\n",
              "    }\n",
              "</style>\n",
              "<table border=\"1\" class=\"dataframe\">\n",
              "  <thead>\n",
              "    <tr style=\"text-align: right;\">\n",
              "      <th></th>\n",
              "      <th>AUC Train</th>\n",
              "      <th>AUC Test</th>\n",
              "      <th>Acc Train</th>\n",
              "      <th>Acc Test</th>\n",
              "      <th>Pre Train</th>\n",
              "      <th>Pre Test</th>\n",
              "      <th>Re Train</th>\n",
              "      <th>Re Test</th>\n",
              "    </tr>\n",
              "  </thead>\n",
              "  <tbody>\n",
              "    <tr>\n",
              "      <th>KNN</th>\n",
              "      <td>0.850181</td>\n",
              "      <td>0.706801</td>\n",
              "      <td>0.793578</td>\n",
              "      <td>0.638298</td>\n",
              "      <td>0.830128</td>\n",
              "      <td>0.694030</td>\n",
              "      <td>0.87500</td>\n",
              "      <td>0.775000</td>\n",
              "    </tr>\n",
              "    <tr>\n",
              "      <th>LogReg</th>\n",
              "      <td>0.767978</td>\n",
              "      <td>0.770588</td>\n",
              "      <td>0.706422</td>\n",
              "      <td>0.686170</td>\n",
              "      <td>0.732044</td>\n",
              "      <td>0.696774</td>\n",
              "      <td>0.89527</td>\n",
              "      <td>0.900000</td>\n",
              "    </tr>\n",
              "    <tr>\n",
              "      <th>DT</th>\n",
              "      <td>1.000000</td>\n",
              "      <td>0.560393</td>\n",
              "      <td>1.000000</td>\n",
              "      <td>0.640000</td>\n",
              "      <td>1.000000</td>\n",
              "      <td>0.732283</td>\n",
              "      <td>1.00000</td>\n",
              "      <td>0.762295</td>\n",
              "    </tr>\n",
              "    <tr>\n",
              "      <th>RF</th>\n",
              "      <td>1.000000</td>\n",
              "      <td>0.808088</td>\n",
              "      <td>1.000000</td>\n",
              "      <td>0.712766</td>\n",
              "      <td>1.000000</td>\n",
              "      <td>0.735714</td>\n",
              "      <td>1.00000</td>\n",
              "      <td>0.858333</td>\n",
              "    </tr>\n",
              "  </tbody>\n",
              "</table>\n",
              "</div>"
            ],
            "text/plain": [
              "        AUC Train  AUC Test  Acc Train  ...  Pre Test  Re Train   Re Test\n",
              "KNN      0.850181  0.706801   0.793578  ...  0.694030   0.87500  0.775000\n",
              "LogReg   0.767978  0.770588   0.706422  ...  0.696774   0.89527  0.900000\n",
              "DT       1.000000  0.560393   1.000000  ...  0.732283   1.00000  0.762295\n",
              "RF       1.000000  0.808088   1.000000  ...  0.735714   1.00000  0.858333\n",
              "\n",
              "[4 rows x 8 columns]"
            ]
          },
          "metadata": {
            "tags": []
          },
          "execution_count": 41
        }
      ]
    },
    {
      "cell_type": "code",
      "metadata": {
        "id": "9i1D7Hy7kgBD",
        "colab_type": "code",
        "colab": {}
      },
      "source": [
        "train = pd.DataFrame(X_smote, columns = ndf.drop('target', axis = 1).columns.tolist())\n",
        "y = pd.Series(y)"
      ],
      "execution_count": 42,
      "outputs": []
    },
    {
      "cell_type": "code",
      "metadata": {
        "id": "6VeA3ZtzlA8q",
        "colab_type": "code",
        "colab": {
          "base_uri": "https://localhost:8080/",
          "height": 214
        },
        "outputId": "0e84bdb6-9f14-4c1b-90ed-5f1c63c76c54"
      },
      "source": [
        "train.head()"
      ],
      "execution_count": 43,
      "outputs": [
        {
          "output_type": "execute_result",
          "data": {
            "text/html": [
              "<div>\n",
              "<style scoped>\n",
              "    .dataframe tbody tr th:only-of-type {\n",
              "        vertical-align: middle;\n",
              "    }\n",
              "\n",
              "    .dataframe tbody tr th {\n",
              "        vertical-align: top;\n",
              "    }\n",
              "\n",
              "    .dataframe thead th {\n",
              "        text-align: right;\n",
              "    }\n",
              "</style>\n",
              "<table border=\"1\" class=\"dataframe\">\n",
              "  <thead>\n",
              "    <tr style=\"text-align: right;\">\n",
              "      <th></th>\n",
              "      <th>Age</th>\n",
              "      <th>Total_Bilirubin</th>\n",
              "      <th>Direct_Bilirubin</th>\n",
              "      <th>Alkaline_Phosphotase</th>\n",
              "      <th>Alamine_Aminotransferase</th>\n",
              "      <th>Aspartate_Aminotransferase</th>\n",
              "      <th>Total_Protiens</th>\n",
              "      <th>Albumin</th>\n",
              "      <th>Albumin_and_Globulin_Ratio</th>\n",
              "      <th>Gender_Male</th>\n",
              "    </tr>\n",
              "  </thead>\n",
              "  <tbody>\n",
              "    <tr>\n",
              "      <th>0</th>\n",
              "      <td>65.0</td>\n",
              "      <td>0.7</td>\n",
              "      <td>0.1</td>\n",
              "      <td>187.0</td>\n",
              "      <td>16.0</td>\n",
              "      <td>18.0</td>\n",
              "      <td>6.8</td>\n",
              "      <td>3.3</td>\n",
              "      <td>0.90</td>\n",
              "      <td>0.0</td>\n",
              "    </tr>\n",
              "    <tr>\n",
              "      <th>1</th>\n",
              "      <td>62.0</td>\n",
              "      <td>10.9</td>\n",
              "      <td>5.5</td>\n",
              "      <td>699.0</td>\n",
              "      <td>64.0</td>\n",
              "      <td>100.0</td>\n",
              "      <td>7.5</td>\n",
              "      <td>3.2</td>\n",
              "      <td>0.74</td>\n",
              "      <td>1.0</td>\n",
              "    </tr>\n",
              "    <tr>\n",
              "      <th>2</th>\n",
              "      <td>62.0</td>\n",
              "      <td>7.3</td>\n",
              "      <td>4.1</td>\n",
              "      <td>490.0</td>\n",
              "      <td>60.0</td>\n",
              "      <td>68.0</td>\n",
              "      <td>7.0</td>\n",
              "      <td>3.3</td>\n",
              "      <td>0.89</td>\n",
              "      <td>1.0</td>\n",
              "    </tr>\n",
              "    <tr>\n",
              "      <th>3</th>\n",
              "      <td>58.0</td>\n",
              "      <td>1.0</td>\n",
              "      <td>0.4</td>\n",
              "      <td>182.0</td>\n",
              "      <td>14.0</td>\n",
              "      <td>20.0</td>\n",
              "      <td>6.8</td>\n",
              "      <td>3.4</td>\n",
              "      <td>1.00</td>\n",
              "      <td>1.0</td>\n",
              "    </tr>\n",
              "    <tr>\n",
              "      <th>4</th>\n",
              "      <td>72.0</td>\n",
              "      <td>3.9</td>\n",
              "      <td>2.0</td>\n",
              "      <td>195.0</td>\n",
              "      <td>27.0</td>\n",
              "      <td>59.0</td>\n",
              "      <td>7.3</td>\n",
              "      <td>2.4</td>\n",
              "      <td>0.40</td>\n",
              "      <td>1.0</td>\n",
              "    </tr>\n",
              "  </tbody>\n",
              "</table>\n",
              "</div>"
            ],
            "text/plain": [
              "    Age  Total_Bilirubin  ...  Albumin_and_Globulin_Ratio  Gender_Male\n",
              "0  65.0              0.7  ...                        0.90          0.0\n",
              "1  62.0             10.9  ...                        0.74          1.0\n",
              "2  62.0              7.3  ...                        0.89          1.0\n",
              "3  58.0              1.0  ...                        1.00          1.0\n",
              "4  72.0              3.9  ...                        0.40          1.0\n",
              "\n",
              "[5 rows x 10 columns]"
            ]
          },
          "metadata": {
            "tags": []
          },
          "execution_count": 43
        }
      ]
    },
    {
      "cell_type": "code",
      "metadata": {
        "id": "3d5b-dcclA_k",
        "colab_type": "code",
        "colab": {
          "base_uri": "https://localhost:8080/",
          "height": 124
        },
        "outputId": "285517a8-791d-4251-8634-f157b801e6a1"
      },
      "source": [
        "y.head()"
      ],
      "execution_count": 44,
      "outputs": [
        {
          "output_type": "execute_result",
          "data": {
            "text/plain": [
              "0    1\n",
              "1    1\n",
              "2    1\n",
              "3    1\n",
              "4    1\n",
              "dtype: int64"
            ]
          },
          "metadata": {
            "tags": []
          },
          "execution_count": 44
        }
      ]
    },
    {
      "cell_type": "markdown",
      "metadata": {
        "id": "SvvBG0MyhNsP",
        "colab_type": "text"
      },
      "source": [
        "# Feature Selection"
      ]
    },
    {
      "cell_type": "code",
      "metadata": {
        "id": "Bne1ebX0hNsQ",
        "colab_type": "code",
        "colab": {}
      },
      "source": [
        "## 1. Removing highly correlated features\n",
        "\n",
        "features = ['Direct_Bilirubin','Total_Protiens','Albumin']\n",
        "\n",
        "X = train\n",
        "Y = y\n",
        "\n",
        "## Splitting the data into train and test sets\n",
        "X_train, X_test, y_train, y_test = perform_train_test_split(X, Y, 0.3)\n",
        "\n",
        "scaled_train, scaled_test = std_data(X_train,X_test)"
      ],
      "execution_count": 45,
      "outputs": []
    },
    {
      "cell_type": "code",
      "metadata": {
        "id": "ly9ZaEnJhNsS",
        "colab_type": "code",
        "colab": {
          "base_uri": "https://localhost:8080/",
          "height": 378
        },
        "outputId": "0d5d71b4-e976-47a4-a2d3-be485bd2e775"
      },
      "source": [
        "## Model 1: KNN\n",
        "\n",
        "models = [('KNN',KNN)]\n",
        "\n",
        "fit_predict_plot(scaled_train, scaled_test, y_train, y_test, models)"
      ],
      "execution_count": 46,
      "outputs": [
        {
          "output_type": "stream",
          "text": [
            "KNN\n",
            "Confusion Matrix:\n",
            "\n",
            "For Train Data:\n",
            "\n",
            "[[ 87  53]\n",
            " [ 37 259]]\n",
            "\n",
            " For Test Data:\n",
            "\n",
            "[[27 41]\n",
            " [27 93]]\n"
          ],
          "name": "stdout"
        },
        {
          "output_type": "execute_result",
          "data": {
            "text/html": [
              "<div>\n",
              "<style scoped>\n",
              "    .dataframe tbody tr th:only-of-type {\n",
              "        vertical-align: middle;\n",
              "    }\n",
              "\n",
              "    .dataframe tbody tr th {\n",
              "        vertical-align: top;\n",
              "    }\n",
              "\n",
              "    .dataframe thead th {\n",
              "        text-align: right;\n",
              "    }\n",
              "</style>\n",
              "<table border=\"1\" class=\"dataframe\">\n",
              "  <thead>\n",
              "    <tr style=\"text-align: right;\">\n",
              "      <th></th>\n",
              "      <th>AUC Train</th>\n",
              "      <th>AUC Test</th>\n",
              "      <th>Acc Train</th>\n",
              "      <th>Acc Test</th>\n",
              "      <th>Pre Train</th>\n",
              "      <th>Pre Test</th>\n",
              "      <th>Re Train</th>\n",
              "      <th>Re Test</th>\n",
              "    </tr>\n",
              "  </thead>\n",
              "  <tbody>\n",
              "    <tr>\n",
              "      <th>KNN</th>\n",
              "      <td>0.850181</td>\n",
              "      <td>0.706801</td>\n",
              "      <td>0.793578</td>\n",
              "      <td>0.638298</td>\n",
              "      <td>0.830128</td>\n",
              "      <td>0.694030</td>\n",
              "      <td>0.87500</td>\n",
              "      <td>0.775000</td>\n",
              "    </tr>\n",
              "    <tr>\n",
              "      <th>LogReg</th>\n",
              "      <td>0.767978</td>\n",
              "      <td>0.770588</td>\n",
              "      <td>0.706422</td>\n",
              "      <td>0.686170</td>\n",
              "      <td>0.732044</td>\n",
              "      <td>0.696774</td>\n",
              "      <td>0.89527</td>\n",
              "      <td>0.900000</td>\n",
              "    </tr>\n",
              "    <tr>\n",
              "      <th>DT</th>\n",
              "      <td>1.000000</td>\n",
              "      <td>0.560393</td>\n",
              "      <td>1.000000</td>\n",
              "      <td>0.640000</td>\n",
              "      <td>1.000000</td>\n",
              "      <td>0.732283</td>\n",
              "      <td>1.00000</td>\n",
              "      <td>0.762295</td>\n",
              "    </tr>\n",
              "    <tr>\n",
              "      <th>RF</th>\n",
              "      <td>1.000000</td>\n",
              "      <td>0.808088</td>\n",
              "      <td>1.000000</td>\n",
              "      <td>0.712766</td>\n",
              "      <td>1.000000</td>\n",
              "      <td>0.735714</td>\n",
              "      <td>1.00000</td>\n",
              "      <td>0.858333</td>\n",
              "    </tr>\n",
              "  </tbody>\n",
              "</table>\n",
              "</div>"
            ],
            "text/plain": [
              "        AUC Train  AUC Test  Acc Train  ...  Pre Test  Re Train   Re Test\n",
              "KNN      0.850181  0.706801   0.793578  ...  0.694030   0.87500  0.775000\n",
              "LogReg   0.767978  0.770588   0.706422  ...  0.696774   0.89527  0.900000\n",
              "DT       1.000000  0.560393   1.000000  ...  0.732283   1.00000  0.762295\n",
              "RF       1.000000  0.808088   1.000000  ...  0.735714   1.00000  0.858333\n",
              "\n",
              "[4 rows x 8 columns]"
            ]
          },
          "metadata": {
            "tags": []
          },
          "execution_count": 46
        }
      ]
    },
    {
      "cell_type": "code",
      "metadata": {
        "id": "OZoej3YvhNsW",
        "colab_type": "code",
        "colab": {
          "base_uri": "https://localhost:8080/",
          "height": 378
        },
        "outputId": "149ee341-9ec2-434d-f4fb-99a710dc8864"
      },
      "source": [
        "\n",
        "## Model 2: Logistic Regression\n",
        "\n",
        "models = [('LogReg',LogReg)]\n",
        "\n",
        "fit_predict_plot(scaled_train, scaled_test, y_train, y_test, models)"
      ],
      "execution_count": 47,
      "outputs": [
        {
          "output_type": "stream",
          "text": [
            "LogReg\n",
            "Confusion Matrix:\n",
            "\n",
            "For Train Data:\n",
            "\n",
            "[[ 43  97]\n",
            " [ 31 265]]\n",
            "\n",
            " For Test Data:\n",
            "\n",
            "[[ 21  47]\n",
            " [ 12 108]]\n"
          ],
          "name": "stdout"
        },
        {
          "output_type": "execute_result",
          "data": {
            "text/html": [
              "<div>\n",
              "<style scoped>\n",
              "    .dataframe tbody tr th:only-of-type {\n",
              "        vertical-align: middle;\n",
              "    }\n",
              "\n",
              "    .dataframe tbody tr th {\n",
              "        vertical-align: top;\n",
              "    }\n",
              "\n",
              "    .dataframe thead th {\n",
              "        text-align: right;\n",
              "    }\n",
              "</style>\n",
              "<table border=\"1\" class=\"dataframe\">\n",
              "  <thead>\n",
              "    <tr style=\"text-align: right;\">\n",
              "      <th></th>\n",
              "      <th>AUC Train</th>\n",
              "      <th>AUC Test</th>\n",
              "      <th>Acc Train</th>\n",
              "      <th>Acc Test</th>\n",
              "      <th>Pre Train</th>\n",
              "      <th>Pre Test</th>\n",
              "      <th>Re Train</th>\n",
              "      <th>Re Test</th>\n",
              "    </tr>\n",
              "  </thead>\n",
              "  <tbody>\n",
              "    <tr>\n",
              "      <th>KNN</th>\n",
              "      <td>0.850181</td>\n",
              "      <td>0.706801</td>\n",
              "      <td>0.793578</td>\n",
              "      <td>0.638298</td>\n",
              "      <td>0.830128</td>\n",
              "      <td>0.694030</td>\n",
              "      <td>0.87500</td>\n",
              "      <td>0.775000</td>\n",
              "    </tr>\n",
              "    <tr>\n",
              "      <th>LogReg</th>\n",
              "      <td>0.767978</td>\n",
              "      <td>0.770588</td>\n",
              "      <td>0.706422</td>\n",
              "      <td>0.686170</td>\n",
              "      <td>0.732044</td>\n",
              "      <td>0.696774</td>\n",
              "      <td>0.89527</td>\n",
              "      <td>0.900000</td>\n",
              "    </tr>\n",
              "    <tr>\n",
              "      <th>DT</th>\n",
              "      <td>1.000000</td>\n",
              "      <td>0.560393</td>\n",
              "      <td>1.000000</td>\n",
              "      <td>0.640000</td>\n",
              "      <td>1.000000</td>\n",
              "      <td>0.732283</td>\n",
              "      <td>1.00000</td>\n",
              "      <td>0.762295</td>\n",
              "    </tr>\n",
              "    <tr>\n",
              "      <th>RF</th>\n",
              "      <td>1.000000</td>\n",
              "      <td>0.808088</td>\n",
              "      <td>1.000000</td>\n",
              "      <td>0.712766</td>\n",
              "      <td>1.000000</td>\n",
              "      <td>0.735714</td>\n",
              "      <td>1.00000</td>\n",
              "      <td>0.858333</td>\n",
              "    </tr>\n",
              "  </tbody>\n",
              "</table>\n",
              "</div>"
            ],
            "text/plain": [
              "        AUC Train  AUC Test  Acc Train  ...  Pre Test  Re Train   Re Test\n",
              "KNN      0.850181  0.706801   0.793578  ...  0.694030   0.87500  0.775000\n",
              "LogReg   0.767978  0.770588   0.706422  ...  0.696774   0.89527  0.900000\n",
              "DT       1.000000  0.560393   1.000000  ...  0.732283   1.00000  0.762295\n",
              "RF       1.000000  0.808088   1.000000  ...  0.735714   1.00000  0.858333\n",
              "\n",
              "[4 rows x 8 columns]"
            ]
          },
          "metadata": {
            "tags": []
          },
          "execution_count": 47
        }
      ]
    },
    {
      "cell_type": "code",
      "metadata": {
        "id": "6a-BinKVhNsY",
        "colab_type": "code",
        "colab": {
          "base_uri": "https://localhost:8080/",
          "height": 378
        },
        "outputId": "16ca7743-e5d1-4bbd-d51e-eedaf258de8f"
      },
      "source": [
        "## Model 3: Random Forest\n",
        "\n",
        "models = [('RF',RF)]\n",
        "\n",
        "fit_predict_plot(scaled_train, scaled_test, y_train, y_test, models)"
      ],
      "execution_count": 48,
      "outputs": [
        {
          "output_type": "stream",
          "text": [
            "RF\n",
            "Confusion Matrix:\n",
            "\n",
            "For Train Data:\n",
            "\n",
            "[[140   0]\n",
            " [  0 296]]\n",
            "\n",
            " For Test Data:\n",
            "\n",
            "[[ 31  37]\n",
            " [ 17 103]]\n"
          ],
          "name": "stdout"
        },
        {
          "output_type": "execute_result",
          "data": {
            "text/html": [
              "<div>\n",
              "<style scoped>\n",
              "    .dataframe tbody tr th:only-of-type {\n",
              "        vertical-align: middle;\n",
              "    }\n",
              "\n",
              "    .dataframe tbody tr th {\n",
              "        vertical-align: top;\n",
              "    }\n",
              "\n",
              "    .dataframe thead th {\n",
              "        text-align: right;\n",
              "    }\n",
              "</style>\n",
              "<table border=\"1\" class=\"dataframe\">\n",
              "  <thead>\n",
              "    <tr style=\"text-align: right;\">\n",
              "      <th></th>\n",
              "      <th>AUC Train</th>\n",
              "      <th>AUC Test</th>\n",
              "      <th>Acc Train</th>\n",
              "      <th>Acc Test</th>\n",
              "      <th>Pre Train</th>\n",
              "      <th>Pre Test</th>\n",
              "      <th>Re Train</th>\n",
              "      <th>Re Test</th>\n",
              "    </tr>\n",
              "  </thead>\n",
              "  <tbody>\n",
              "    <tr>\n",
              "      <th>KNN</th>\n",
              "      <td>0.850181</td>\n",
              "      <td>0.706801</td>\n",
              "      <td>0.793578</td>\n",
              "      <td>0.638298</td>\n",
              "      <td>0.830128</td>\n",
              "      <td>0.694030</td>\n",
              "      <td>0.87500</td>\n",
              "      <td>0.775000</td>\n",
              "    </tr>\n",
              "    <tr>\n",
              "      <th>LogReg</th>\n",
              "      <td>0.767978</td>\n",
              "      <td>0.770588</td>\n",
              "      <td>0.706422</td>\n",
              "      <td>0.686170</td>\n",
              "      <td>0.732044</td>\n",
              "      <td>0.696774</td>\n",
              "      <td>0.89527</td>\n",
              "      <td>0.900000</td>\n",
              "    </tr>\n",
              "    <tr>\n",
              "      <th>DT</th>\n",
              "      <td>1.000000</td>\n",
              "      <td>0.560393</td>\n",
              "      <td>1.000000</td>\n",
              "      <td>0.640000</td>\n",
              "      <td>1.000000</td>\n",
              "      <td>0.732283</td>\n",
              "      <td>1.00000</td>\n",
              "      <td>0.762295</td>\n",
              "    </tr>\n",
              "    <tr>\n",
              "      <th>RF</th>\n",
              "      <td>1.000000</td>\n",
              "      <td>0.808088</td>\n",
              "      <td>1.000000</td>\n",
              "      <td>0.712766</td>\n",
              "      <td>1.000000</td>\n",
              "      <td>0.735714</td>\n",
              "      <td>1.00000</td>\n",
              "      <td>0.858333</td>\n",
              "    </tr>\n",
              "  </tbody>\n",
              "</table>\n",
              "</div>"
            ],
            "text/plain": [
              "        AUC Train  AUC Test  Acc Train  ...  Pre Test  Re Train   Re Test\n",
              "KNN      0.850181  0.706801   0.793578  ...  0.694030   0.87500  0.775000\n",
              "LogReg   0.767978  0.770588   0.706422  ...  0.696774   0.89527  0.900000\n",
              "DT       1.000000  0.560393   1.000000  ...  0.732283   1.00000  0.762295\n",
              "RF       1.000000  0.808088   1.000000  ...  0.735714   1.00000  0.858333\n",
              "\n",
              "[4 rows x 8 columns]"
            ]
          },
          "metadata": {
            "tags": []
          },
          "execution_count": 48
        }
      ]
    },
    {
      "cell_type": "code",
      "metadata": {
        "id": "SxuK0kY1hNsb",
        "colab_type": "code",
        "colab": {}
      },
      "source": [
        ""
      ],
      "execution_count": null,
      "outputs": []
    },
    {
      "cell_type": "code",
      "metadata": {
        "id": "L925KOqphNsc",
        "colab_type": "code",
        "colab": {
          "base_uri": "https://localhost:8080/",
          "height": 334
        },
        "outputId": "4af94d09-4f89-4932-904e-796d2432099d"
      },
      "source": [
        "### 2. Feature Imprtance\n",
        "\n",
        "imp_features = pd.DataFrame({'features': X_train.columns, 'scores':  RF.feature_importances_})\n",
        "imp_features = imp_features.sort_values(by = 'scores', ascending = False)\n",
        "\n",
        "plt.figure(figsize = (15,5))\n",
        "sns.barplot(x = 'scores', y = 'features', data = imp_features)\n",
        "plt.show()"
      ],
      "execution_count": 49,
      "outputs": [
        {
          "output_type": "display_data",
          "data": {
            "image/png": "[encoded data removed]",
            "text/plain": [
              "<Figure size 1080x360 with 1 Axes>"
            ]
          },
          "metadata": {
            "tags": [],
            "needs_background": "light"
          }
        }
      ]
    },
    {
      "cell_type": "code",
      "metadata": {
        "id": "sprxzYg24ivf",
        "colab_type": "code",
        "colab": {
          "base_uri": "https://localhost:8080/",
          "height": 407
        },
        "outputId": "cf647a1d-4d3c-40ed-fb7c-783478af076e"
      },
      "source": [
        "## using top 5 features\n",
        "\n",
        "X = train[imp_features['features'][:5]]\n",
        "Y = y\n",
        "\n",
        "## Splitting the data into train and test sets\n",
        "X_train, X_test, y_train, y_test = perform_train_test_split(X, Y, 0.3)\n",
        "\n",
        "scaled_train, scaled_test = std_data(X_train,X_test)\n",
        "\n",
        "models = [('top 5 + RF',RF)]\n",
        "\n",
        "fit_predict_plot(scaled_train, scaled_test, y_train, y_test, models)"
      ],
      "execution_count": 51,
      "outputs": [
        {
          "output_type": "stream",
          "text": [
            "top 5 + RF\n",
            "Confusion Matrix:\n",
            "\n",
            "For Train Data:\n",
            "\n",
            "[[140   0]\n",
            " [  0 296]]\n",
            "\n",
            " For Test Data:\n",
            "\n",
            "[[ 36  32]\n",
            " [ 19 101]]\n"
          ],
          "name": "stdout"
        },
        {
          "output_type": "execute_result",
          "data": {
            "text/html": [
              "<div>\n",
              "<style scoped>\n",
              "    .dataframe tbody tr th:only-of-type {\n",
              "        vertical-align: middle;\n",
              "    }\n",
              "\n",
              "    .dataframe tbody tr th {\n",
              "        vertical-align: top;\n",
              "    }\n",
              "\n",
              "    .dataframe thead th {\n",
              "        text-align: right;\n",
              "    }\n",
              "</style>\n",
              "<table border=\"1\" class=\"dataframe\">\n",
              "  <thead>\n",
              "    <tr style=\"text-align: right;\">\n",
              "      <th></th>\n",
              "      <th>AUC Train</th>\n",
              "      <th>AUC Test</th>\n",
              "      <th>Acc Train</th>\n",
              "      <th>Acc Test</th>\n",
              "      <th>Pre Train</th>\n",
              "      <th>Pre Test</th>\n",
              "      <th>Re Train</th>\n",
              "      <th>Re Test</th>\n",
              "    </tr>\n",
              "  </thead>\n",
              "  <tbody>\n",
              "    <tr>\n",
              "      <th>KNN</th>\n",
              "      <td>0.850181</td>\n",
              "      <td>0.706801</td>\n",
              "      <td>0.793578</td>\n",
              "      <td>0.638298</td>\n",
              "      <td>0.830128</td>\n",
              "      <td>0.694030</td>\n",
              "      <td>0.87500</td>\n",
              "      <td>0.775000</td>\n",
              "    </tr>\n",
              "    <tr>\n",
              "      <th>LogReg</th>\n",
              "      <td>0.767978</td>\n",
              "      <td>0.770588</td>\n",
              "      <td>0.706422</td>\n",
              "      <td>0.686170</td>\n",
              "      <td>0.732044</td>\n",
              "      <td>0.696774</td>\n",
              "      <td>0.89527</td>\n",
              "      <td>0.900000</td>\n",
              "    </tr>\n",
              "    <tr>\n",
              "      <th>DT</th>\n",
              "      <td>1.000000</td>\n",
              "      <td>0.560393</td>\n",
              "      <td>1.000000</td>\n",
              "      <td>0.640000</td>\n",
              "      <td>1.000000</td>\n",
              "      <td>0.732283</td>\n",
              "      <td>1.00000</td>\n",
              "      <td>0.762295</td>\n",
              "    </tr>\n",
              "    <tr>\n",
              "      <th>RF</th>\n",
              "      <td>1.000000</td>\n",
              "      <td>0.808088</td>\n",
              "      <td>1.000000</td>\n",
              "      <td>0.712766</td>\n",
              "      <td>1.000000</td>\n",
              "      <td>0.735714</td>\n",
              "      <td>1.00000</td>\n",
              "      <td>0.858333</td>\n",
              "    </tr>\n",
              "    <tr>\n",
              "      <th>top 5 + RF</th>\n",
              "      <td>1.000000</td>\n",
              "      <td>0.792647</td>\n",
              "      <td>1.000000</td>\n",
              "      <td>0.728723</td>\n",
              "      <td>1.000000</td>\n",
              "      <td>0.759398</td>\n",
              "      <td>1.00000</td>\n",
              "      <td>0.841667</td>\n",
              "    </tr>\n",
              "  </tbody>\n",
              "</table>\n",
              "</div>"
            ],
            "text/plain": [
              "            AUC Train  AUC Test  Acc Train  ...  Pre Test  Re Train   Re Test\n",
              "KNN          0.850181  0.706801   0.793578  ...  0.694030   0.87500  0.775000\n",
              "LogReg       0.767978  0.770588   0.706422  ...  0.696774   0.89527  0.900000\n",
              "DT           1.000000  0.560393   1.000000  ...  0.732283   1.00000  0.762295\n",
              "RF           1.000000  0.808088   1.000000  ...  0.735714   1.00000  0.858333\n",
              "top 5 + RF   1.000000  0.792647   1.000000  ...  0.759398   1.00000  0.841667\n",
              "\n",
              "[5 rows x 8 columns]"
            ]
          },
          "metadata": {
            "tags": []
          },
          "execution_count": 51
        }
      ]
    },
    {
      "cell_type": "code",
      "metadata": {
        "id": "FaKLFnUQ4i59",
        "colab_type": "code",
        "colab": {}
      },
      "source": [
        ""
      ],
      "execution_count": null,
      "outputs": []
    },
    {
      "cell_type": "markdown",
      "metadata": {
        "id": "VlCMz77UoWVf",
        "colab_type": "text"
      },
      "source": [
        "# Hyperparameter Tuning\n",
        "## Tuning RF"
      ]
    },
    {
      "cell_type": "code",
      "metadata": {
        "id": "Gr1wn99yhNsg",
        "colab_type": "code",
        "colab": {
          "base_uri": "https://localhost:8080/",
          "height": 35
        },
        "outputId": "7d2fefb0-85c2-4b68-e9fa-920e9cac91e9"
      },
      "source": [
        "\n",
        "## parameters for RF\n",
        "max_depth = np.arange(2,10)\n",
        "min_samples_split = np.arange(10,40)\n",
        "min_samples_leaf = np.arange(10,20)\n",
        "n_estimators = np.arange(70,80)\n",
        "\n",
        "params = {\n",
        "          'max_depth': max_depth,\n",
        "          'min_samples_split': min_samples_split,\n",
        "          'min_samples_leaf': min_samples_leaf,\n",
        "          'n_estimators' : n_estimators\n",
        "         }\n",
        "\n",
        "RF  = RandomForestClassifier(random_state = 21)\n",
        "\n",
        "rscv = RandomizedSearchCV(RF, params, scoring = 'recall', cv = 5, return_train_score = True)\n",
        "results = rscv.fit(X_train,y_train)\n",
        "print(results.best_params_)"
      ],
      "execution_count": 70,
      "outputs": [
        {
          "output_type": "stream",
          "text": [
            "{'n_estimators': 79, 'min_samples_split': 11, 'min_samples_leaf': 14, 'max_depth': 3}\n"
          ],
          "name": "stdout"
        }
      ]
    },
    {
      "cell_type": "markdown",
      "metadata": {
        "id": "8ZjfblrShNsk",
        "colab_type": "text"
      },
      "source": [
        "\n",
        "## Parameters after each iteration of RandomizedSearchCV\n",
        "\n",
        "- 1\n",
        "{n_estimators': ,44 'min_samples_split': 29, 'min_samples_leaf': 10, 'max_depth': 2} - Recall (train: 96, test: 95)\n",
        "\n",
        "- 2\n",
        "{'n_estimators': 26, 'min_samples_split': 27, 'min_samples_leaf': 13, 'max_depth': 2} - Recall (train: 95.9, test: 95.8)\n",
        "\n",
        "- 3\n",
        "{'n_estimators': 13, 'min_samples_split': 37, 'min_samples_leaf': 12, 'max_depth': 2} - Recall (train: 95.2, test: 95)\n",
        "\n",
        "- 4\n",
        "{'n_estimators': 45, 'min_samples_split': 33, 'min_samples_leaf': 17, 'max_depth': 8} - Recall (train: 91.8, test: 90)\n",
        "\n",
        "- 5\n",
        "{'n_estimators': 55, 'min_samples_split': 13, 'min_samples_leaf': 11, 'max_depth': 3} - Recall(train: 91.8 , test: 90 )\n",
        "\n",
        "- 6\n",
        "{'n_estimators': 69, 'min_samples_split': 24, 'min_samples_leaf': 10, 'max_depth': 2} - Recall(train: 97.6, test: 96.6)\n",
        "\n",
        "- 7\n",
        "{'n_estimators': 83, 'min_samples_split': 26, 'min_samples_leaf': 12, 'max_depth': 2} - Recall(train: 96.2 , test: 95)\n",
        "\n",
        "- 8 \n",
        "{'n_estimators': 79, 'min_samples_split': 11, 'min_samples_leaf': 14, 'max_depth': 3} - Recall (train: 92.2 , test: 91.6)"
      ]
    },
    {
      "cell_type": "code",
      "metadata": {
        "id": "koqn-1nJhNsl",
        "colab_type": "code",
        "colab": {}
      },
      "source": [
        "tunedRF1 = RandomForestClassifier(n_estimators = 44, min_samples_split = 29, min_samples_leaf = 10, \n",
        "                                 max_depth = 2, random_state = 21)\n",
        "\n",
        "tunedRF2 = RandomForestClassifier(n_estimators = 69, min_samples_split = 24, min_samples_leaf = 10, \n",
        "                                 max_depth = 2, random_state = 21)\n"
      ],
      "execution_count": 75,
      "outputs": []
    },
    {
      "cell_type": "code",
      "metadata": {
        "id": "CmT4-_fbhNso",
        "colab_type": "code",
        "colab": {
          "base_uri": "https://localhost:8080/",
          "height": 466
        },
        "outputId": "649c31e5-7ee0-441f-fea9-d88fd77e13b0"
      },
      "source": [
        "models = [('top 5 + RF1',tunedRF1)]\n",
        "\n",
        "fit_predict_plot(scaled_train, scaled_test, y_train, y_test, models)"
      ],
      "execution_count": 89,
      "outputs": [
        {
          "output_type": "stream",
          "text": [
            "top 5 + RF1\n",
            "Confusion Matrix:\n",
            "\n",
            "For Train Data:\n",
            "\n",
            "[[ 27 113]\n",
            " [ 10 286]]\n",
            "\n",
            " For Test Data:\n",
            "\n",
            "[[ 12  56]\n",
            " [  6 114]]\n"
          ],
          "name": "stdout"
        },
        {
          "output_type": "execute_result",
          "data": {
            "text/html": [
              "<div>\n",
              "<style scoped>\n",
              "    .dataframe tbody tr th:only-of-type {\n",
              "        vertical-align: middle;\n",
              "    }\n",
              "\n",
              "    .dataframe tbody tr th {\n",
              "        vertical-align: top;\n",
              "    }\n",
              "\n",
              "    .dataframe thead th {\n",
              "        text-align: right;\n",
              "    }\n",
              "</style>\n",
              "<table border=\"1\" class=\"dataframe\">\n",
              "  <thead>\n",
              "    <tr style=\"text-align: right;\">\n",
              "      <th></th>\n",
              "      <th>AUC Train</th>\n",
              "      <th>AUC Test</th>\n",
              "      <th>Acc Train</th>\n",
              "      <th>Acc Test</th>\n",
              "      <th>Pre Train</th>\n",
              "      <th>Pre Test</th>\n",
              "      <th>Re Train</th>\n",
              "      <th>Re Test</th>\n",
              "    </tr>\n",
              "  </thead>\n",
              "  <tbody>\n",
              "    <tr>\n",
              "      <th>KNN</th>\n",
              "      <td>0.850181</td>\n",
              "      <td>0.706801</td>\n",
              "      <td>0.793578</td>\n",
              "      <td>0.638298</td>\n",
              "      <td>0.830128</td>\n",
              "      <td>0.694030</td>\n",
              "      <td>0.875000</td>\n",
              "      <td>0.775000</td>\n",
              "    </tr>\n",
              "    <tr>\n",
              "      <th>LogReg</th>\n",
              "      <td>0.767978</td>\n",
              "      <td>0.770588</td>\n",
              "      <td>0.706422</td>\n",
              "      <td>0.686170</td>\n",
              "      <td>0.732044</td>\n",
              "      <td>0.696774</td>\n",
              "      <td>0.895270</td>\n",
              "      <td>0.900000</td>\n",
              "    </tr>\n",
              "    <tr>\n",
              "      <th>DT</th>\n",
              "      <td>1.000000</td>\n",
              "      <td>0.560393</td>\n",
              "      <td>1.000000</td>\n",
              "      <td>0.640000</td>\n",
              "      <td>1.000000</td>\n",
              "      <td>0.732283</td>\n",
              "      <td>1.000000</td>\n",
              "      <td>0.762295</td>\n",
              "    </tr>\n",
              "    <tr>\n",
              "      <th>RF</th>\n",
              "      <td>1.000000</td>\n",
              "      <td>0.808088</td>\n",
              "      <td>1.000000</td>\n",
              "      <td>0.712766</td>\n",
              "      <td>1.000000</td>\n",
              "      <td>0.735714</td>\n",
              "      <td>1.000000</td>\n",
              "      <td>0.858333</td>\n",
              "    </tr>\n",
              "    <tr>\n",
              "      <th>top 5 + RF</th>\n",
              "      <td>1.000000</td>\n",
              "      <td>0.792647</td>\n",
              "      <td>1.000000</td>\n",
              "      <td>0.728723</td>\n",
              "      <td>1.000000</td>\n",
              "      <td>0.759398</td>\n",
              "      <td>1.000000</td>\n",
              "      <td>0.841667</td>\n",
              "    </tr>\n",
              "    <tr>\n",
              "      <th>top 5 + RF (Tuned)</th>\n",
              "      <td>0.819208</td>\n",
              "      <td>0.769853</td>\n",
              "      <td>0.747706</td>\n",
              "      <td>0.675532</td>\n",
              "      <td>0.758333</td>\n",
              "      <td>0.683230</td>\n",
              "      <td>0.922297</td>\n",
              "      <td>0.916667</td>\n",
              "    </tr>\n",
              "    <tr>\n",
              "      <th>top 5 + RF1</th>\n",
              "      <td>0.791180</td>\n",
              "      <td>0.766483</td>\n",
              "      <td>0.717890</td>\n",
              "      <td>0.670213</td>\n",
              "      <td>0.716792</td>\n",
              "      <td>0.670588</td>\n",
              "      <td>0.966216</td>\n",
              "      <td>0.950000</td>\n",
              "    </tr>\n",
              "  </tbody>\n",
              "</table>\n",
              "</div>"
            ],
            "text/plain": [
              "                    AUC Train  AUC Test  ...  Re Train   Re Test\n",
              "KNN                  0.850181  0.706801  ...  0.875000  0.775000\n",
              "LogReg               0.767978  0.770588  ...  0.895270  0.900000\n",
              "DT                   1.000000  0.560393  ...  1.000000  0.762295\n",
              "RF                   1.000000  0.808088  ...  1.000000  0.858333\n",
              "top 5 + RF           1.000000  0.792647  ...  1.000000  0.841667\n",
              "top 5 + RF (Tuned)   0.819208  0.769853  ...  0.922297  0.916667\n",
              "top 5 + RF1          0.791180  0.766483  ...  0.966216  0.950000\n",
              "\n",
              "[7 rows x 8 columns]"
            ]
          },
          "metadata": {
            "tags": []
          },
          "execution_count": 89
        }
      ]
    },
    {
      "cell_type": "markdown",
      "metadata": {
        "id": "yahz2Za_CUV_",
        "colab_type": "text"
      },
      "source": [
        "# Cross Validation"
      ]
    },
    {
      "cell_type": "code",
      "metadata": {
        "id": "GEP-eLxshNsr",
        "colab_type": "code",
        "colab": {}
      },
      "source": [
        "# function for applying various models with 10-fold cross validation\n",
        "def implement_cv(x,y,models):\n",
        "    final = {}\n",
        "    results = []\n",
        "    names = []\n",
        "    auc = []\n",
        "    for name, model in models:\n",
        "          kfold = model_selection.KFold(shuffle=True,n_splits=10,random_state=0)\n",
        "          cv_results = model_selection.cross_val_score(model,x,y,cv=kfold, scoring='recall')\n",
        "          results.append((np.abs(cv_results)))\n",
        "          auc.append(np.mean(results))\n",
        "          names.append(name)\n",
        "          final.update({'Model': names , 'recall': auc})\n",
        "    return pd.DataFrame(final)"
      ],
      "execution_count": 84,
      "outputs": []
    },
    {
      "cell_type": "code",
      "metadata": {
        "id": "whUbckQF_jmg",
        "colab_type": "code",
        "colab": {}
      },
      "source": [
        "X = train[imp_features['features'][:5]]\n",
        "Y = y"
      ],
      "execution_count": 85,
      "outputs": []
    },
    {
      "cell_type": "code",
      "metadata": {
        "id": "sSf9jN0ghNsv",
        "colab_type": "code",
        "colab": {
          "base_uri": "https://localhost:8080/",
          "height": 76
        },
        "outputId": "43d2a5c4-a0ec-48fe-9d23-a30fad39fd89"
      },
      "source": [
        "models = [('top 5 + RF1 (Tuned)',tunedRF1)]\n",
        "implement_cv(X,Y, models)"
      ],
      "execution_count": 86,
      "outputs": [
        {
          "output_type": "execute_result",
          "data": {
            "text/html": [
              "<div>\n",
              "<style scoped>\n",
              "    .dataframe tbody tr th:only-of-type {\n",
              "        vertical-align: middle;\n",
              "    }\n",
              "\n",
              "    .dataframe tbody tr th {\n",
              "        vertical-align: top;\n",
              "    }\n",
              "\n",
              "    .dataframe thead th {\n",
              "        text-align: right;\n",
              "    }\n",
              "</style>\n",
              "<table border=\"1\" class=\"dataframe\">\n",
              "  <thead>\n",
              "    <tr style=\"text-align: right;\">\n",
              "      <th></th>\n",
              "      <th>Model</th>\n",
              "      <th>recall</th>\n",
              "    </tr>\n",
              "  </thead>\n",
              "  <tbody>\n",
              "    <tr>\n",
              "      <th>0</th>\n",
              "      <td>top 5 + RF1 (Tuned)</td>\n",
              "      <td>0.862497</td>\n",
              "    </tr>\n",
              "  </tbody>\n",
              "</table>\n",
              "</div>"
            ],
            "text/plain": [
              "                 Model    recall\n",
              "0  top 5 + RF1 (Tuned)  0.862497"
            ]
          },
          "metadata": {
            "tags": []
          },
          "execution_count": 86
        }
      ]
    },
    {
      "cell_type": "code",
      "metadata": {
        "id": "Z_-rBkRPhNsz",
        "colab_type": "code",
        "colab": {
          "base_uri": "https://localhost:8080/",
          "height": 76
        },
        "outputId": "6907ae12-db5f-4e4c-fed0-60e1cec238a5"
      },
      "source": [
        "models = [('top 5 + RF2 (Tuned)',tunedRF2)]\n",
        "implement_cv(X,Y, models)"
      ],
      "execution_count": 87,
      "outputs": [
        {
          "output_type": "execute_result",
          "data": {
            "text/html": [
              "<div>\n",
              "<style scoped>\n",
              "    .dataframe tbody tr th:only-of-type {\n",
              "        vertical-align: middle;\n",
              "    }\n",
              "\n",
              "    .dataframe tbody tr th {\n",
              "        vertical-align: top;\n",
              "    }\n",
              "\n",
              "    .dataframe thead th {\n",
              "        text-align: right;\n",
              "    }\n",
              "</style>\n",
              "<table border=\"1\" class=\"dataframe\">\n",
              "  <thead>\n",
              "    <tr style=\"text-align: right;\">\n",
              "      <th></th>\n",
              "      <th>Model</th>\n",
              "      <th>recall</th>\n",
              "    </tr>\n",
              "  </thead>\n",
              "  <tbody>\n",
              "    <tr>\n",
              "      <th>0</th>\n",
              "      <td>top 5 + RF2 (Tuned)</td>\n",
              "      <td>0.859762</td>\n",
              "    </tr>\n",
              "  </tbody>\n",
              "</table>\n",
              "</div>"
            ],
            "text/plain": [
              "                 Model    recall\n",
              "0  top 5 + RF2 (Tuned)  0.859762"
            ]
          },
          "metadata": {
            "tags": []
          },
          "execution_count": 87
        }
      ]
    },
    {
      "cell_type": "markdown",
      "metadata": {
        "id": "RAJ_2KLl_9DL",
        "colab_type": "text"
      },
      "source": [
        "# Results:\n",
        "\n",
        "From the cross validation scores, it is evident that the final model for predicting the liver disease is Random forest with 86% recall on whole dataset. That is the model is able to predict 86% of records correctly as having the disease who actually have the disease. The confusion matrix also showed low False Negatives (6).\n",
        "\n",
        "# Improvements:\n",
        "The current RF model is producing high false positives which indicates that the person who does not have a disease is predicted to have the disease. This is a false indication which needs to be reduced to avoid any further consequences.\n",
        "\n",
        "The model can be further improved to reducing the number of false negatives so as to make the model more robust and efficient. Also, other algorithms can be used. The false positives can be reduced by adding more records labelled as non-liver patient."
      ]
    },
    {
      "cell_type": "code",
      "metadata": {
        "id": "YT2lGNNUDBtI",
        "colab_type": "code",
        "colab": {}
      },
      "source": [
        ""
      ],
      "execution_count": null,
      "outputs": []
    }
  ]
}